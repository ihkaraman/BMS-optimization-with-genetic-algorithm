{
 "cells": [
  {
   "cell_type": "code",
   "execution_count": 1,
   "metadata": {},
   "outputs": [],
   "source": [
    "import time\n",
    "import ray\n",
    "import pandas as pd\n",
    "import pickle\n",
    "import winsound\n",
    "import numpy as np\n",
    "import genetic_algorithm as ga"
   ]
  },
  {
   "cell_type": "code",
   "execution_count": 2,
   "metadata": {},
   "outputs": [],
   "source": [
    "run_num = 1\n",
    "res_file_name = 'tuning.pickle'"
   ]
  },
  {
   "cell_type": "code",
   "execution_count": 3,
   "metadata": {},
   "outputs": [],
   "source": [
    "col_names = ['#','Dataset', 'Run', 'Pop Size', 'K', 'Fitness Func', 'Crossover Type', 'Crossover Prob', 'Elitism Ratio', \\\n",
    "            'Max Parent Allow', 'Mutation Prob', 'Mutation Rate', 'Max Iter', 'Individual Size','Solution Costs', 'Best Solution', \\\n",
    "            'Stopping Cond', 'Run Time','Min Cost']"
   ]
  },
  {
   "cell_type": "code",
   "execution_count": 4,
   "metadata": {},
   "outputs": [],
   "source": [
    "res_df = pd.DataFrame(columns=col_names)\n",
    "res_df.to_pickle(res_file_name)"
   ]
  },
  {
   "cell_type": "code",
   "execution_count": 5,
   "metadata": {},
   "outputs": [
    {
     "name": "stderr",
     "output_type": "stream",
     "text": [
      "2021-01-24 22:36:14,475\tINFO services.py:1173 -- View the Ray dashboard at \u001b[1m\u001b[32mhttp://127.0.0.1:8265\u001b[39m\u001b[22m\n"
     ]
    },
    {
     "data": {
      "text/plain": [
       "{'node_ip_address': '192.168.0.11',\n",
       " 'raylet_ip_address': '192.168.0.11',\n",
       " 'redis_address': '192.168.0.11:6379',\n",
       " 'object_store_address': 'tcp://127.0.0.1:62183',\n",
       " 'raylet_socket_name': 'tcp://127.0.0.1:52563',\n",
       " 'webui_url': '127.0.0.1:8265',\n",
       " 'session_dir': 'C:\\\\Users\\\\ISMAIL~1\\\\AppData\\\\Local\\\\Temp\\\\ray\\\\session_2021-01-24_22-36-13_322282_12240',\n",
       " 'metrics_export_port': 54712,\n",
       " 'node_id': '9a1d86260e8ca502e2161f87a16f7eadb334890a'}"
      ]
     },
     "execution_count": 5,
     "metadata": {},
     "output_type": "execute_result"
    }
   ],
   "source": [
    "import ray\n",
    "ray.init()"
   ]
  },
  {
   "cell_type": "markdown",
   "metadata": {},
   "source": [
    "### tuning parameters"
   ]
  },
  {
   "cell_type": "code",
   "execution_count": 6,
   "metadata": {},
   "outputs": [],
   "source": [
    "population_size = 50\n",
    "\n",
    "# crossover parameters\n",
    "crossover_probability = 1.0\n",
    "crossover_type = 2 \n",
    "fitness_function = 'cost'\n",
    "\n",
    "# selection parameters\n",
    "elitism_ratio_list = [0.2, 0.4]\n",
    "max_parent_allowance = 0.3\n",
    "\n",
    "#mutation parameters\n",
    "mutation_probability = 0.2\n",
    "mutation_rate_list = [0.1, 0.3, 0.5]\n",
    "\n",
    "# algorithm settings\n",
    "data_sets = ['120_1', '120_2', '240_1', '240_2', '360_1', '360_2']\n",
    "max_iter = 500 \n",
    "k = 10 \n",
    "stop_thrs = 10\n",
    "mutation_level = 0.2\n",
    "\n",
    "run_num = 3"
   ]
  },
  {
   "cell_type": "code",
   "execution_count": 7,
   "metadata": {},
   "outputs": [],
   "source": [
    "params_pool = []\n",
    "\n",
    "for elitism_ratio in elitism_ratio_list:\n",
    "    for mutation_rate in mutation_rate_list:\n",
    "            for data in data_sets:\n",
    "                for run in range(1, run_num+1):\n",
    "\n",
    "                    individual_size = int(data[0:3])\n",
    "\n",
    "                    parameters = [\n",
    "                    data, run, \\\n",
    "                    population_size, k,\\\n",
    "                    fitness_function,  crossover_type, crossover_probability, \\\n",
    "                    elitism_ratio, max_parent_allowance, \\\n",
    "                    mutation_probability, mutation_rate, max_iter, individual_size,\\\n",
    "                    stop_thrs, mutation_level \\\n",
    "                    ]\n",
    "\n",
    "                    params_pool.append(parameters)"
   ]
  },
  {
   "cell_type": "code",
   "execution_count": 8,
   "metadata": {},
   "outputs": [
    {
     "data": {
      "text/plain": [
       "108"
      ]
     },
     "execution_count": 8,
     "metadata": {},
     "output_type": "execute_result"
    }
   ],
   "source": [
    "len(params_pool)"
   ]
  },
  {
   "cell_type": "code",
   "execution_count": 9,
   "metadata": {},
   "outputs": [
    {
     "data": {
      "text/plain": [
       "0"
      ]
     },
     "execution_count": 9,
     "metadata": {},
     "output_type": "execute_result"
    }
   ],
   "source": [
    "res_df = pd.read_pickle(res_file_name)\n",
    "len(res_df)"
   ]
  },
  {
   "cell_type": "code",
   "execution_count": 10,
   "metadata": {},
   "outputs": [],
   "source": [
    "idx = 0"
   ]
  },
  {
   "cell_type": "code",
   "execution_count": 11,
   "metadata": {},
   "outputs": [],
   "source": [
    "@ray.remote\n",
    "def run(parameters):\n",
    "    global idx\n",
    "    idx += 1 \n",
    "    try:\n",
    "        res = ga.run(parameters)\n",
    "    except:\n",
    "        print('An error occuered with ', parameters)\n",
    "        return {}\n",
    "    print('run',idx, parameters, ' - ',res['run_time'])\n",
    "    return res"
   ]
  },
  {
   "cell_type": "code",
   "execution_count": 12,
   "metadata": {
    "scrolled": false
   },
   "outputs": [
    {
     "name": "stdout",
     "output_type": "stream",
     "text": [
      "\u001b[2m\u001b[36m(pid=15848)\u001b[0m run 1 ['120_1', 1, 50, 10, 'cost', 2, 1.0, 0.2, 0.3, 0.2, 0.1, 500, 120, 10, 0.2]  -  8.411845219135284\n",
      "\u001b[2m\u001b[36m(pid=20944)\u001b[0m run 1 ['120_1', 2, 50, 10, 'cost', 2, 1.0, 0.2, 0.3, 0.2, 0.1, 500, 120, 10, 0.2]  -  8.486831072966257\n",
      "\u001b[2m\u001b[36m(pid=17252)\u001b[0m run 1 ['120_2', 3, 50, 10, 'cost', 2, 1.0, 0.2, 0.3, 0.2, 0.1, 500, 120, 10, 0.2]  -  8.527751898765564\n",
      "\u001b[2m\u001b[36m(pid=16684)\u001b[0m run 1 ['120_1', 2, 50, 10, 'cost', 2, 1.0, 0.2, 0.3, 0.2, 0.3, 500, 120, 10, 0.2]  -  8.558575451374054\n",
      "\u001b[2m\u001b[36m(pid=11344)\u001b[0m run 1 ['120_2', 2, 50, 10, 'cost', 2, 1.0, 0.2, 0.3, 0.2, 0.1, 500, 120, 10, 0.2]  -  8.717179024219513\n",
      "\u001b[2m\u001b[36m(pid=2664)\u001b[0m run 1 ['120_1', 3, 50, 10, 'cost', 2, 1.0, 0.2, 0.3, 0.2, 0.1, 500, 120, 10, 0.2]  -  8.74061759710312\n",
      "\u001b[2m\u001b[36m(pid=4428)\u001b[0m run 1 ['120_1', 3, 50, 10, 'cost', 2, 1.0, 0.2, 0.3, 0.2, 0.3, 500, 120, 10, 0.2]  -  8.76799058119456\n",
      "\u001b[2m\u001b[36m(pid=23280)\u001b[0m run 1 ['120_2', 1, 50, 10, 'cost', 2, 1.0, 0.2, 0.3, 0.2, 0.1, 500, 120, 10, 0.2]  -  8.884107013543447\n",
      "\u001b[2m\u001b[36m(pid=5672)\u001b[0m run 1 ['120_1', 1, 50, 10, 'cost', 2, 1.0, 0.2, 0.3, 0.2, 0.3, 500, 120, 10, 0.2]  -  8.922154263655345\n",
      "\u001b[2m\u001b[36m(pid=3724)\u001b[0m run 1 ['120_2', 2, 50, 10, 'cost', 2, 1.0, 0.2, 0.3, 0.2, 0.3, 500, 120, 10, 0.2]  -  9.075864664713542\n",
      "\u001b[2m\u001b[36m(pid=4456)\u001b[0m run 1 ['120_2', 1, 50, 10, 'cost', 2, 1.0, 0.2, 0.3, 0.2, 0.3, 500, 120, 10, 0.2]  -  9.123199431101481\n",
      "\u001b[2m\u001b[36m(pid=9864)\u001b[0m run 1 ['120_2', 3, 50, 10, 'cost', 2, 1.0, 0.2, 0.3, 0.2, 0.3, 500, 120, 10, 0.2]  -  9.145821158091227\n",
      "\u001b[2m\u001b[36m(pid=15000)\u001b[0m run 1 ['240_1', 2, 50, 10, 'cost', 2, 1.0, 0.2, 0.3, 0.2, 0.1, 500, 240, 10, 0.2]  -  14.303149632612865\n",
      "\u001b[2m\u001b[36m(pid=18160)\u001b[0m run 1 ['240_2', 1, 50, 10, 'cost', 2, 1.0, 0.2, 0.3, 0.2, 0.1, 500, 240, 10, 0.2]  -  14.37430222829183\n",
      "\u001b[2m\u001b[36m(pid=16980)\u001b[0m run 1 ['240_2', 3, 50, 10, 'cost', 2, 1.0, 0.2, 0.3, 0.2, 0.1, 500, 240, 10, 0.2]  -  14.688851463794709\n",
      "\u001b[2m\u001b[36m(pid=21884)\u001b[0m run 1 ['240_2', 2, 50, 10, 'cost', 2, 1.0, 0.2, 0.3, 0.2, 0.1, 500, 240, 10, 0.2]  -  14.690835229555766\n",
      "\u001b[2m\u001b[36m(pid=21956)\u001b[0m run 1 ['240_1', 3, 50, 10, 'cost', 2, 1.0, 0.2, 0.3, 0.2, 0.1, 500, 240, 10, 0.2]  -  14.805885068575542\n",
      "\u001b[2m\u001b[36m(pid=23288)\u001b[0m run 1 ['240_1', 1, 50, 10, 'cost', 2, 1.0, 0.2, 0.3, 0.2, 0.1, 500, 240, 10, 0.2]  -  14.814486988385518\n",
      "\u001b[2m\u001b[36m(pid=4552)\u001b[0m run 1 ['240_2', 1, 50, 10, 'cost', 2, 1.0, 0.2, 0.3, 0.2, 0.3, 500, 240, 10, 0.2]  -  14.859980471928914\n",
      "\u001b[2m\u001b[36m(pid=7388)\u001b[0m run 1 ['240_1', 3, 50, 10, 'cost', 2, 1.0, 0.2, 0.3, 0.2, 0.3, 500, 240, 10, 0.2]  -  14.891520841916401\n",
      "\u001b[2m\u001b[36m(pid=6040)\u001b[0m run 1 ['240_1', 2, 50, 10, 'cost', 2, 1.0, 0.2, 0.3, 0.2, 0.3, 500, 240, 10, 0.2]  -  15.316654535134633\n",
      "\u001b[2m\u001b[36m(pid=18372)\u001b[0m run 1 ['240_1', 1, 50, 10, 'cost', 2, 1.0, 0.2, 0.3, 0.2, 0.3, 500, 240, 10, 0.2]  -  15.454477671782175\n",
      "\u001b[2m\u001b[36m(pid=15992)\u001b[0m run 1 ['240_2', 3, 50, 10, 'cost', 2, 1.0, 0.2, 0.3, 0.2, 0.3, 500, 240, 10, 0.2]  -  15.612857302029928\n",
      "\u001b[2m\u001b[36m(pid=5136)\u001b[0m run 1 ['240_2', 2, 50, 10, 'cost', 2, 1.0, 0.2, 0.3, 0.2, 0.3, 500, 240, 10, 0.2]  -  15.672470613320668\n",
      "\u001b[2m\u001b[36m(pid=2664)\u001b[0m run 2 ['120_1', 2, 50, 10, 'cost', 2, 1.0, 0.2, 0.3, 0.2, 0.5, 500, 120, 10, 0.2]  -  8.972655014197032\n",
      "\u001b[2m\u001b[36m(pid=11344)\u001b[0m run 2 ['120_1', 1, 50, 10, 'cost', 2, 1.0, 0.2, 0.3, 0.2, 0.5, 500, 120, 10, 0.2]  -  9.044212758541107\n",
      "\u001b[2m\u001b[36m(pid=4428)\u001b[0m run 2 ['120_1', 3, 50, 10, 'cost', 2, 1.0, 0.2, 0.3, 0.2, 0.5, 500, 120, 10, 0.2]  -  9.128822227319082\n",
      "\u001b[2m\u001b[36m(pid=3724)\u001b[0m run 2 ['120_2', 3, 50, 10, 'cost', 2, 1.0, 0.2, 0.3, 0.2, 0.5, 500, 120, 10, 0.2]  -  9.008298865954082\n",
      "\u001b[2m\u001b[36m(pid=23280)\u001b[0m run 2 ['120_2', 1, 50, 10, 'cost', 2, 1.0, 0.2, 0.3, 0.2, 0.5, 500, 120, 10, 0.2]  -  9.240569802125295\n",
      "\u001b[2m\u001b[36m(pid=5672)\u001b[0m run 2 ['120_2', 2, 50, 10, 'cost', 2, 1.0, 0.2, 0.3, 0.2, 0.5, 500, 120, 10, 0.2]  -  9.264295371373494\n",
      "\u001b[2m\u001b[36m(pid=11020)\u001b[0m run 1 ['360_2', 1, 50, 10, 'cost', 2, 1.0, 0.2, 0.3, 0.2, 0.1, 500, 360, 10, 0.2]  -  20.62400194009145\n",
      "\u001b[2m\u001b[36m(pid=16600)\u001b[0m run 1 ['360_2', 3, 50, 10, 'cost', 2, 1.0, 0.2, 0.3, 0.2, 0.1, 500, 360, 10, 0.2]  -  20.74088708162308\n",
      "\u001b[2m\u001b[36m(pid=21312)\u001b[0m run 1 ['360_1', 3, 50, 10, 'cost', 2, 1.0, 0.2, 0.3, 0.2, 0.1, 500, 360, 10, 0.2]  -  21.02875998814901\n",
      "\u001b[2m\u001b[36m(pid=23468)\u001b[0m run 1 ['360_1', 1, 50, 10, 'cost', 2, 1.0, 0.2, 0.3, 0.2, 0.1, 500, 360, 10, 0.2]  -  21.218847878774007\n",
      "\u001b[2m\u001b[36m(pid=8784)\u001b[0m run 1 ['360_1', 1, 50, 10, 'cost', 2, 1.0, 0.2, 0.3, 0.2, 0.3, 500, 360, 10, 0.2]  -  21.283203717072805\n",
      "\u001b[2m\u001b[36m(pid=5940)\u001b[0m run 1 ['360_1', 2, 50, 10, 'cost', 2, 1.0, 0.2, 0.3, 0.2, 0.3, 500, 360, 10, 0.2]  -  21.53428528706233\n",
      "\u001b[2m\u001b[36m(pid=9832)\u001b[0m run 1 ['360_1', 2, 50, 10, 'cost', 2, 1.0, 0.2, 0.3, 0.2, 0.1, 500, 360, 10, 0.2]  -  21.58174588282903\n",
      "\u001b[2m\u001b[36m(pid=5136)\u001b[0m run 2 ['120_1', 2, 50, 10, 'cost', 2, 1.0, 0.4, 0.3, 0.2, 0.1, 500, 120, 10, 0.2]  -  5.947617161273956\n",
      "\u001b[2m\u001b[36m(pid=21716)\u001b[0m run 1 ['360_2', 2, 50, 10, 'cost', 2, 1.0, 0.2, 0.3, 0.2, 0.1, 500, 360, 10, 0.2]  -  21.693804232279458\n",
      "\u001b[2m\u001b[36m(pid=15992)\u001b[0m run 2 ['120_1', 1, 50, 10, 'cost', 2, 1.0, 0.4, 0.3, 0.2, 0.1, 500, 120, 10, 0.2]  -  6.157821106910705\n",
      "\u001b[2m\u001b[36m(pid=11344)\u001b[0m run 3 ['120_2', 1, 50, 10, 'cost', 2, 1.0, 0.4, 0.3, 0.2, 0.1, 500, 120, 10, 0.2]  -  6.100244295597077\n",
      "\u001b[2m\u001b[36m(pid=4428)\u001b[0m run 3 ['120_2', 2, 50, 10, 'cost', 2, 1.0, 0.4, 0.3, 0.2, 0.1, 500, 120, 10, 0.2]  -  6.053468183676402\n",
      "\u001b[2m\u001b[36m(pid=2664)\u001b[0m run 3 ['120_1', 3, 50, 10, 'cost', 2, 1.0, 0.4, 0.3, 0.2, 0.1, 500, 120, 10, 0.2]  -  6.277625938256581\n",
      "\u001b[2m\u001b[36m(pid=9864)\u001b[0m run 2 ['240_1', 2, 50, 10, 'cost', 2, 1.0, 0.2, 0.3, 0.2, 0.5, 500, 240, 10, 0.2]  -  14.958312690258026\n",
      "\u001b[2m\u001b[36m(pid=3724)\u001b[0m run 3 ['120_2', 3, 50, 10, 'cost', 2, 1.0, 0.4, 0.3, 0.2, 0.1, 500, 120, 10, 0.2]  -  6.217997848987579\n",
      "\u001b[2m\u001b[36m(pid=4456)\u001b[0m run 2 ['240_1', 1, 50, 10, 'cost', 2, 1.0, 0.2, 0.3, 0.2, 0.5, 500, 240, 10, 0.2]  -  15.70198206504186\n",
      "\u001b[2m\u001b[36m(pid=5672)\u001b[0m run 3 ['240_1', 2, 50, 10, 'cost', 2, 1.0, 0.4, 0.3, 0.2, 0.1, 500, 240, 10, 0.2]  -  10.66836764017741\n",
      "\u001b[2m\u001b[36m(pid=23280)\u001b[0m run 3 ['240_1', 1, 50, 10, 'cost', 2, 1.0, 0.4, 0.3, 0.2, 0.1, 500, 240, 10, 0.2]  -  10.889834535121917\n",
      "\u001b[2m\u001b[36m(pid=15000)\u001b[0m run 2 ['240_1', 3, 50, 10, 'cost', 2, 1.0, 0.2, 0.3, 0.2, 0.5, 500, 240, 10, 0.2]  -  15.187234612305959\n",
      "\u001b[2m\u001b[36m(pid=15848)\u001b[0m run 2 ['360_1', 3, 50, 10, 'cost', 2, 1.0, 0.2, 0.3, 0.2, 0.3, 500, 360, 10, 0.2]  -  21.192931214968365\n",
      "\u001b[2m\u001b[36m(pid=16684)\u001b[0m run 2 ['360_2', 3, 50, 10, 'cost', 2, 1.0, 0.2, 0.3, 0.2, 0.3, 500, 360, 10, 0.2]  -  21.21247143348058\n",
      "\u001b[2m\u001b[36m(pid=20944)\u001b[0m run 2 ['360_2', 1, 50, 10, 'cost', 2, 1.0, 0.2, 0.3, 0.2, 0.3, 500, 360, 10, 0.2]  -  21.326425242424012\n",
      "\u001b[2m\u001b[36m(pid=11344)\u001b[0m run 4 ['120_1', 1, 50, 10, 'cost', 2, 1.0, 0.4, 0.3, 0.2, 0.3, 500, 120, 10, 0.2]  -  6.129693325360616\n",
      "\u001b[2m\u001b[36m(pid=18160)\u001b[0m run 2 ['240_2', 1, 50, 10, 'cost', 2, 1.0, 0.2, 0.3, 0.2, 0.5, 500, 240, 10, 0.2]  -  15.647884058952332\n",
      "\u001b[2m\u001b[36m(pid=4428)\u001b[0m run 4 ['120_1', 2, 50, 10, 'cost', 2, 1.0, 0.4, 0.3, 0.2, 0.3, 500, 120, 10, 0.2]  -  6.126367461681366\n",
      "\u001b[2m\u001b[36m(pid=2664)\u001b[0m run 4 ['120_1', 3, 50, 10, 'cost', 2, 1.0, 0.4, 0.3, 0.2, 0.3, 500, 120, 10, 0.2]  -  6.110788814226786\n",
      "\u001b[2m\u001b[36m(pid=17252)\u001b[0m run 2 ['360_2', 2, 50, 10, 'cost', 2, 1.0, 0.2, 0.3, 0.2, 0.3, 500, 360, 10, 0.2]  -  21.603775469462075\n",
      "\u001b[2m\u001b[36m(pid=16980)\u001b[0m run 2 ['240_2', 2, 50, 10, 'cost', 2, 1.0, 0.2, 0.3, 0.2, 0.5, 500, 240, 10, 0.2]  -  15.538914048671723\n",
      "\u001b[2m\u001b[36m(pid=21884)\u001b[0m run 2 ['240_2', 3, 50, 10, 'cost', 2, 1.0, 0.2, 0.3, 0.2, 0.5, 500, 240, 10, 0.2]  -  15.632968386014303\n",
      "\u001b[2m\u001b[36m(pid=9864)\u001b[0m run 3 ['120_2', 1, 50, 10, 'cost', 2, 1.0, 0.4, 0.3, 0.2, 0.3, 500, 120, 10, 0.2]  -  6.24505877494812\n",
      "\u001b[2m\u001b[36m(pid=3724)\u001b[0m run 4 ['120_2', 2, 50, 10, 'cost', 2, 1.0, 0.4, 0.3, 0.2, 0.3, 500, 120, 10, 0.2]  -  6.598354303836823\n",
      "\u001b[2m\u001b[36m(pid=16600)\u001b[0m run 2 ['240_2', 1, 50, 10, 'cost', 2, 1.0, 0.4, 0.3, 0.2, 0.1, 500, 240, 10, 0.2]  -  10.335584557056427\n",
      "\u001b[2m\u001b[36m(pid=11020)\u001b[0m run 2 ['240_1', 3, 50, 10, 'cost', 2, 1.0, 0.4, 0.3, 0.2, 0.1, 500, 240, 10, 0.2]  -  10.585666084289551\n",
      "\u001b[2m\u001b[36m(pid=4456)\u001b[0m run 3 ['120_2', 3, 50, 10, 'cost', 2, 1.0, 0.4, 0.3, 0.2, 0.3, 500, 120, 10, 0.2]  -  6.753352197011312\n"
     ]
    },
    {
     "name": "stdout",
     "output_type": "stream",
     "text": [
      "\u001b[2m\u001b[36m(pid=21312)\u001b[0m run 2 ['240_2', 2, 50, 10, 'cost', 2, 1.0, 0.4, 0.3, 0.2, 0.1, 500, 240, 10, 0.2]  -  10.564010214805602\n",
      "\u001b[2m\u001b[36m(pid=23468)\u001b[0m run 2 ['240_2', 3, 50, 10, 'cost', 2, 1.0, 0.4, 0.3, 0.2, 0.1, 500, 240, 10, 0.2]  -  10.60582411289215\n",
      "\u001b[2m\u001b[36m(pid=23288)\u001b[0m run 2 ['360_1', 2, 50, 10, 'cost', 2, 1.0, 0.2, 0.3, 0.2, 0.5, 500, 360, 10, 0.2]  -  21.445163337389626\n",
      "\u001b[2m\u001b[36m(pid=5940)\u001b[0m run 2 ['360_1', 2, 50, 10, 'cost', 2, 1.0, 0.4, 0.3, 0.2, 0.1, 500, 360, 10, 0.2]  -  14.786512017250061\n",
      "\u001b[2m\u001b[36m(pid=4552)\u001b[0m run 2 ['360_1', 3, 50, 10, 'cost', 2, 1.0, 0.2, 0.3, 0.2, 0.5, 500, 360, 10, 0.2]  -  21.516745988527934\n",
      "\u001b[2m\u001b[36m(pid=8784)\u001b[0m run 2 ['360_1', 1, 50, 10, 'cost', 2, 1.0, 0.4, 0.3, 0.2, 0.1, 500, 360, 10, 0.2]  -  15.15508648554484\n",
      "\u001b[2m\u001b[36m(pid=7388)\u001b[0m run 2 ['360_2', 1, 50, 10, 'cost', 2, 1.0, 0.2, 0.3, 0.2, 0.5, 500, 360, 10, 0.2]  -  21.755382585525513\n",
      "\u001b[2m\u001b[36m(pid=9864)\u001b[0m run 4 ['120_1', 2, 50, 10, 'cost', 2, 1.0, 0.4, 0.3, 0.2, 0.5, 500, 120, 10, 0.2]  -  6.338203183809916\n",
      "\u001b[2m\u001b[36m(pid=21884)\u001b[0m run 3 ['120_1', 1, 50, 10, 'cost', 2, 1.0, 0.4, 0.3, 0.2, 0.5, 500, 120, 10, 0.2]  -  6.361408372720082\n",
      "\u001b[2m\u001b[36m(pid=18372)\u001b[0m run 2 ['360_2', 3, 50, 10, 'cost', 2, 1.0, 0.2, 0.3, 0.2, 0.5, 500, 360, 10, 0.2]  -  21.32603891690572\n",
      "\u001b[2m\u001b[36m(pid=5136)\u001b[0m run 3 ['360_2', 1, 50, 10, 'cost', 2, 1.0, 0.4, 0.3, 0.2, 0.1, 500, 360, 10, 0.2]  -  15.224109701315562\n",
      "\u001b[2m\u001b[36m(pid=15992)\u001b[0m run 3 ['360_2', 3, 50, 10, 'cost', 2, 1.0, 0.4, 0.3, 0.2, 0.1, 500, 360, 10, 0.2]  -  15.328142567475636\n",
      "\u001b[2m\u001b[36m(pid=3724)\u001b[0m run 5 ['120_1', 3, 50, 10, 'cost', 2, 1.0, 0.4, 0.3, 0.2, 0.5, 500, 120, 10, 0.2]\n",
      "\u001b[2m\u001b[36m(pid=3724)\u001b[0m   -  6.216876101493836\n",
      "\u001b[2m\u001b[36m(pid=21716)\u001b[0m run 2 ['360_2', 2, 50, 10, 'cost', 2, 1.0, 0.4, 0.3, 0.2, 0.1, 500, 360, 10, 0.2]  -  15.434873414039611\n",
      "\u001b[2m\u001b[36m(pid=9832)\u001b[0m run 2 ['360_1', 3, 50, 10, 'cost', 2, 1.0, 0.4, 0.3, 0.2, 0.1, 500, 360, 10, 0.2]  -  15.566086033980051\n",
      "\u001b[2m\u001b[36m(pid=6040)\u001b[0m run 2 ['360_2', 2, 50, 10, 'cost', 2, 1.0, 0.2, 0.3, 0.2, 0.5, 500, 360, 10, 0.2]  -  21.92873250246048\n",
      "\u001b[2m\u001b[36m(pid=16600)\u001b[0m run 3 ['120_2', 1, 50, 10, 'cost', 2, 1.0, 0.4, 0.3, 0.2, 0.5, 500, 120, 10, 0.2]  -  6.238614288965861\n",
      "\u001b[2m\u001b[36m(pid=21956)\u001b[0m run 2 ['360_1', 1, 50, 10, 'cost', 2, 1.0, 0.2, 0.3, 0.2, 0.5, 500, 360, 10, 0.2]  -  22.631344791253408\n",
      "\u001b[2m\u001b[36m(pid=11020)\u001b[0m run 3 ['120_2', 2, 50, 10, 'cost', 2, 1.0, 0.4, 0.3, 0.2, 0.5, 500, 120, 10, 0.2]  -  6.287791935602824\n",
      "\u001b[2m\u001b[36m(pid=4456)\u001b[0m run 4 ['120_2', 3, 50, 10, 'cost', 2, 1.0, 0.4, 0.3, 0.2, 0.5, 500, 120, 10, 0.2]  -  6.374845417340596\n",
      "\u001b[2m\u001b[36m(pid=5672)\u001b[0m run 4 ['240_1', 1, 50, 10, 'cost', 2, 1.0, 0.4, 0.3, 0.2, 0.3, 500, 240, 10, 0.2]  -  10.507460081577301\n",
      "\u001b[2m\u001b[36m(pid=15000)\u001b[0m run 3 ['240_1', 3, 50, 10, 'cost', 2, 1.0, 0.4, 0.3, 0.2, 0.3, 500, 240, 10, 0.2]  -  10.283901755015055\n",
      "\u001b[2m\u001b[36m(pid=23280)\u001b[0m run 4 ['240_1', 2, 50, 10, 'cost', 2, 1.0, 0.4, 0.3, 0.2, 0.3, 500, 240, 10, 0.2]  -  10.794582422574361\n",
      "\u001b[2m\u001b[36m(pid=20944)\u001b[0m run 3 ['240_2', 3, 50, 10, 'cost', 2, 1.0, 0.4, 0.3, 0.2, 0.3, 500, 240, 10, 0.2]  -  10.150547099113464\n",
      "\u001b[2m\u001b[36m(pid=16684)\u001b[0m run 3 ['240_2', 2, 50, 10, 'cost', 2, 1.0, 0.4, 0.3, 0.2, 0.3, 500, 240, 10, 0.2]  -  10.287060916423798\n",
      "\u001b[2m\u001b[36m(pid=15848)\u001b[0m run 3 ['240_2', 1, 50, 10, 'cost', 2, 1.0, 0.4, 0.3, 0.2, 0.3, 500, 240, 10, 0.2]  -  10.670879924297333\n",
      "\u001b[2m\u001b[36m(pid=21312)\u001b[0m run 3 ['240_1', 1, 50, 10, 'cost', 2, 1.0, 0.4, 0.3, 0.2, 0.5, 500, 240, 10, 0.2]  -  9.432545340061187\n",
      "\u001b[2m\u001b[36m(pid=23468)\u001b[0m run 3 ['240_1', 2, 50, 10, 'cost', 2, 1.0, 0.4, 0.3, 0.2, 0.5, 500, 240, 10, 0.2]  -  9.498093299070995\n",
      "\u001b[2m\u001b[36m(pid=18160)\u001b[0m run 3 ['360_1', 2, 50, 10, 'cost', 2, 1.0, 0.4, 0.3, 0.2, 0.3, 500, 360, 10, 0.2]  -  13.203279646237691\n",
      "\u001b[2m\u001b[36m(pid=4428)\u001b[0m run 5 ['360_1', 3, 50, 10, 'cost', 2, 1.0, 0.4, 0.3, 0.2, 0.3, 500, 360, 10, 0.2]\n",
      "\u001b[2m\u001b[36m(pid=4428)\u001b[0m   -  13.23712052901586\n",
      "\u001b[2m\u001b[36m(pid=11344)\u001b[0m run 5 ['360_1', 1, 50, 10, 'cost', 2, 1.0, 0.4, 0.3, 0.2, 0.3, 500, 360, 10, 0.2]  -  13.402657504876455\n",
      "\u001b[2m\u001b[36m(pid=2664)\u001b[0m run 5 ['360_2', 1, 50, 10, 'cost', 2, 1.0, 0.4, 0.3, 0.2, 0.3, 500, 360, 10, 0.2]  -  13.29238289197286\n",
      "\u001b[2m\u001b[36m(pid=16980)\u001b[0m run 3 ['360_2', 3, 50, 10, 'cost', 2, 1.0, 0.4, 0.3, 0.2, 0.3, 500, 360, 10, 0.2]  -  13.283080784479777\n",
      "\u001b[2m\u001b[36m(pid=17252)\u001b[0m run 3 ['360_2', 2, 50, 10, 'cost', 2, 1.0, 0.4, 0.3, 0.2, 0.3, 500, 360, 10, 0.2]  -  13.434948023160299\n",
      "\u001b[2m\u001b[36m(pid=5940)\u001b[0m run 3 ['240_2', 1, 50, 10, 'cost', 2, 1.0, 0.4, 0.3, 0.2, 0.5, 500, 240, 10, 0.2]  -  8.156914842128753\n",
      "\u001b[2m\u001b[36m(pid=23288)\u001b[0m run 3 ['240_1', 3, 50, 10, 'cost', 2, 1.0, 0.4, 0.3, 0.2, 0.5, 500, 240, 10, 0.2]  -  8.231331451733906\n",
      "\u001b[2m\u001b[36m(pid=8784)\u001b[0m run 3 ['240_2', 3, 50, 10, 'cost', 2, 1.0, 0.4, 0.3, 0.2, 0.5, 500, 240, 10, 0.2]  -  8.123207302888234\n",
      "\u001b[2m\u001b[36m(pid=4552)\u001b[0m run 3 ['240_2', 2, 50, 10, 'cost', 2, 1.0, 0.4, 0.3, 0.2, 0.5, 500, 240, 10, 0.2]  -  8.19527340332667\n",
      "\u001b[2m\u001b[36m(pid=9864)\u001b[0m run 5 ['360_1', 3, 50, 10, 'cost', 2, 1.0, 0.4, 0.3, 0.2, 0.5, 500, 360, 10, 0.2]  -  10.501371610164643\n",
      "\u001b[2m\u001b[36m(pid=18372)\u001b[0m run 3 ['360_2', 1, 50, 10, 'cost', 2, 1.0, 0.4, 0.3, 0.2, 0.5, 500, 360, 10, 0.2]  -  10.422103913625081\n",
      "\u001b[2m\u001b[36m(pid=21884)\u001b[0m run 4 ['360_1', 2, 50, 10, 'cost', 2, 1.0, 0.4, 0.3, 0.2, 0.5, 500, 360, 10, 0.2]  -  10.658723402023316\n",
      "\u001b[2m\u001b[36m(pid=7388)\u001b[0m run 3 ['360_1', 1, 50, 10, 'cost', 2, 1.0, 0.4, 0.3, 0.2, 0.5, 500, 360, 10, 0.2]  -  10.848115670681\n",
      "\u001b[2m\u001b[36m(pid=15992)\u001b[0m run 4 ['360_2', 3, 50, 10, 'cost', 2, 1.0, 0.4, 0.3, 0.2, 0.5, 500, 360, 10, 0.2]  -  10.442458462715148\n",
      "2854.3371815681458\n",
      "\u001b[2m\u001b[36m(pid=5136)\u001b[0m run 4 ['360_2', 2, 50, 10, 'cost', 2, 1.0, 0.4, 0.3, 0.2, 0.5, 500, 360, 10, 0.2]  -  10.697682098547618\n"
     ]
    }
   ],
   "source": [
    "start = time.time()\n",
    "futures = [run.remote(params) for params in params_pool]\n",
    "results = ray.get(futures)\n",
    "end =time.time()\n",
    "print(end-start)"
   ]
  },
  {
   "cell_type": "markdown",
   "metadata": {},
   "source": [
    "### results"
   ]
  },
  {
   "cell_type": "code",
   "execution_count": 14,
   "metadata": {},
   "outputs": [],
   "source": [
    "index = len(res_df)\n",
    "\n",
    "for params, res in zip(params_pool, results):\n",
    "    \n",
    "    if len(res)==0:\n",
    "\n",
    "        solns = [index] + params[0:13] + ['']*5\n",
    "    else:    \n",
    "        solns = [index] + params[0:13] + [res['cost_func'], res['best_soln'], \\\n",
    "                                      res['stop_cond'], res['run_time'], res['min_cost']]\n",
    "        \n",
    "    res_df = res_df.append(pd.DataFrame([solns], columns=col_names),ignore_index=True)\n",
    "    \n",
    "    index +=1\n",
    "    \n",
    "res_df.to_pickle(res_file_name)"
   ]
  },
  {
   "cell_type": "code",
   "execution_count": 15,
   "metadata": {},
   "outputs": [
    {
     "data": {
      "text/plain": [
       "108"
      ]
     },
     "execution_count": 15,
     "metadata": {},
     "output_type": "execute_result"
    }
   ],
   "source": [
    "len(res_df)"
   ]
  },
  {
   "cell_type": "code",
   "execution_count": 19,
   "metadata": {
    "scrolled": false
   },
   "outputs": [
    {
     "ename": "AttributeError",
     "evalue": "'DataFrameGroupBy' object has no attribute 'to_frame'",
     "output_type": "error",
     "traceback": [
      "\u001b[1;31m---------------------------------------------------------------------------\u001b[0m",
      "\u001b[1;31mAttributeError\u001b[0m                            Traceback (most recent call last)",
      "\u001b[1;32m<ipython-input-19-c36e236a0b21>\u001b[0m in \u001b[0;36m<module>\u001b[1;34m\u001b[0m\n\u001b[1;32m----> 1\u001b[1;33m \u001b[0mdd\u001b[0m \u001b[1;33m=\u001b[0m \u001b[0mres_df\u001b[0m\u001b[1;33m.\u001b[0m\u001b[0mgroupby\u001b[0m\u001b[1;33m(\u001b[0m\u001b[1;34m'Dataset'\u001b[0m\u001b[1;33m)\u001b[0m\u001b[1;33m.\u001b[0m\u001b[0mto_frame\u001b[0m\u001b[1;33m(\u001b[0m\u001b[1;33m)\u001b[0m\u001b[1;33m\u001b[0m\u001b[0m\n\u001b[0m\u001b[0;32m      2\u001b[0m \u001b[0mdd\u001b[0m\u001b[1;33m\u001b[0m\u001b[0m\n",
      "\u001b[1;32m~\\Anaconda3\\lib\\site-packages\\pandas\\core\\groupby\\groupby.py\u001b[0m in \u001b[0;36m__getattr__\u001b[1;34m(self, attr)\u001b[0m\n\u001b[0;32m    579\u001b[0m \u001b[1;33m\u001b[0m\u001b[0m\n\u001b[0;32m    580\u001b[0m         raise AttributeError(\n\u001b[1;32m--> 581\u001b[1;33m             \u001b[1;34mf\"'{type(self).__name__}' object has no attribute '{attr}'\"\u001b[0m\u001b[1;33m\u001b[0m\u001b[0m\n\u001b[0m\u001b[0;32m    582\u001b[0m         )\n\u001b[0;32m    583\u001b[0m \u001b[1;33m\u001b[0m\u001b[0m\n",
      "\u001b[1;31mAttributeError\u001b[0m: 'DataFrameGroupBy' object has no attribute 'to_frame'"
     ]
    }
   ],
   "source": [
    "dd = res_df.groupby('Dataset').to_frame()\n",
    "dd"
   ]
  },
  {
   "cell_type": "code",
   "execution_count": null,
   "metadata": {},
   "outputs": [],
   "source": [
    "# beep\n",
    "winsound.Beep(500, 300)"
   ]
  },
  {
   "cell_type": "markdown",
   "metadata": {},
   "source": [
    "params = [\n",
    "population_size, k,\\\n",
    "fitness_function,  crossover_type, crossover_probability, \\\n",
    "elitism_ratio, max_parent_allowance, \\\n",
    "mutation_probability, mutation_rate, max_iter, \\\n",
    "individual_size, stop_thrs, mutation_level \\\n",
    "]"
   ]
  }
 ],
 "metadata": {
  "kernelspec": {
   "display_name": "Python 3",
   "language": "python",
   "name": "python3"
  },
  "language_info": {
   "codemirror_mode": {
    "name": "ipython",
    "version": 3
   },
   "file_extension": ".py",
   "mimetype": "text/x-python",
   "name": "python",
   "nbconvert_exporter": "python",
   "pygments_lexer": "ipython3",
   "version": "3.7.0"
  }
 },
 "nbformat": 4,
 "nbformat_minor": 4
}

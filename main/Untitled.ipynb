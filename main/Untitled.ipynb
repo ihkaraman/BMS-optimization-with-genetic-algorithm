{
 "cells": [
  {
   "cell_type": "code",
   "execution_count": 1,
   "metadata": {},
   "outputs": [
    {
     "ename": "TypeError",
     "evalue": "non-float value in input sequence ([173. 146.  44. 246. 451. 213. 408.  95.  55. 352. 203.  26.  13. 439.\n  72. 314. 397. 117.  89. 304. 276. 148.  36.  44. 108. 255. 139. 108.\n 389. 428. 224. 327. 377. 301. 182. 313. 372. 395. 244. 381.  48. 424.\n 102.  29.  68. 106. 184. 291. 248. 176. 422. 266. 362. 208. 150. 223.\n  56. 323. 158. 257. 177. 391. 254. 445. 104.  92. 239. 331. 282. 412.\n 233. 333. 218.  45. 115. 240. 209. 243. 361.  97. 126. 126.  18. 143.\n 412.  58. 258. 386.  77. 208. 257.  78. 443.   4. 250. 445. 356. 340.\n  15. 119.   2.  34. 414. 329. 359. 378. 220. 416.  35. 335. 409. 366.\n 217. 381. 428.  88. 235. 386.  42. 271.])",
     "output_type": "error",
     "traceback": [
      "\u001b[1;31m---------------------------------------------------------------------------\u001b[0m",
      "\u001b[1;31mTypeError\u001b[0m                                 Traceback (most recent call last)",
      "\u001b[1;32m<ipython-input-1-a56c0c8f9a2f>\u001b[0m in \u001b[0;36m<module>\u001b[1;34m()\u001b[0m\n\u001b[0;32m      1\u001b[0m \u001b[1;32mimport\u001b[0m \u001b[0mCplex_CalculateFitness\u001b[0m\u001b[1;33m\u001b[0m\u001b[0m\n\u001b[0;32m      2\u001b[0m \u001b[0mindividual\u001b[0m \u001b[1;33m=\u001b[0m \u001b[0mCplex_CalculateFitness\u001b[0m\u001b[1;33m.\u001b[0m\u001b[0mgenerate_random_array\u001b[0m\u001b[1;33m(\u001b[0m\u001b[1;36m1\u001b[0m\u001b[1;33m)\u001b[0m\u001b[1;33m\u001b[0m\u001b[0m\n\u001b[1;32m----> 3\u001b[1;33m \u001b[0mCplex_CalculateFitness\u001b[0m\u001b[1;33m.\u001b[0m\u001b[0mcalculate_fitness\u001b[0m\u001b[1;33m(\u001b[0m\u001b[0mindividual\u001b[0m\u001b[1;33m)\u001b[0m\u001b[1;33m\u001b[0m\u001b[0m\n\u001b[0m",
      "\u001b[1;32m~\\workspace\\GitHub\\GA-for-BMS\\main\\Cplex_CalculateFitness.py\u001b[0m in \u001b[0;36mcalculate_fitness\u001b[1;34m(l_array)\u001b[0m\n\u001b[0;32m    286\u001b[0m     \u001b[1;32mfor\u001b[0m \u001b[0mt\u001b[0m \u001b[1;32min\u001b[0m \u001b[0mrange\u001b[0m\u001b[1;33m(\u001b[0m\u001b[0moptions_p\u001b[0m\u001b[1;33m.\u001b[0m\u001b[0mtime_horizon\u001b[0m\u001b[1;33m)\u001b[0m\u001b[1;33m:\u001b[0m\u001b[1;33m\u001b[0m\u001b[0m\n\u001b[0;32m    287\u001b[0m         model.linear_constraints.add(lin_expr=[cplex.SparsePair(ind=[\"l\" + '_' + str(t)], val=[1])],\n\u001b[1;32m--> 288\u001b[1;33m                                      rhs=[l_array[t]], names=[\"C_B\"], senses=['E'])\n\u001b[0m\u001b[0;32m    289\u001b[0m \u001b[1;33m\u001b[0m\u001b[0m\n\u001b[0;32m    290\u001b[0m     '''\n",
      "\u001b[1;32m~\\Anaconda3\\lib\\site-packages\\cplex\\_internal\\_subinterfaces.py\u001b[0m in \u001b[0;36madd\u001b[1;34m(self, lin_expr, senses, rhs, range_values, names)\u001b[0m\n\u001b[0;32m   1257\u001b[0m             lin_expr, senses, rhs, range_values, names)\n\u001b[0;32m   1258\u001b[0m         return self._add_iter(self.get_num, self._add,\n\u001b[1;32m-> 1259\u001b[1;33m                               lin_expr, senses, rhs, range_values, names)\n\u001b[0m\u001b[0;32m   1260\u001b[0m \u001b[1;33m\u001b[0m\u001b[0m\n\u001b[0;32m   1261\u001b[0m     \u001b[1;32mdef\u001b[0m \u001b[0mdelete\u001b[0m\u001b[1;33m(\u001b[0m\u001b[0mself\u001b[0m\u001b[1;33m,\u001b[0m \u001b[1;33m*\u001b[0m\u001b[0margs\u001b[0m\u001b[1;33m)\u001b[0m\u001b[1;33m:\u001b[0m\u001b[1;33m\u001b[0m\u001b[0m\n",
      "\u001b[1;32m~\\Anaconda3\\lib\\site-packages\\cplex\\_internal\\_baseinterface.py\u001b[0m in \u001b[0;36m_add_iter\u001b[1;34m(getnumfun, addfun, *args, **kwargs)\u001b[0m\n\u001b[0;32m     39\u001b[0m         \u001b[1;34m\"\"\"non-public\"\"\"\u001b[0m\u001b[1;33m\u001b[0m\u001b[0m\n\u001b[0;32m     40\u001b[0m         \u001b[0mold\u001b[0m \u001b[1;33m=\u001b[0m \u001b[0mgetnumfun\u001b[0m\u001b[1;33m(\u001b[0m\u001b[1;33m)\u001b[0m\u001b[1;33m\u001b[0m\u001b[0m\n\u001b[1;32m---> 41\u001b[1;33m         \u001b[0maddfun\u001b[0m\u001b[1;33m(\u001b[0m\u001b[1;33m*\u001b[0m\u001b[0margs\u001b[0m\u001b[1;33m,\u001b[0m \u001b[1;33m**\u001b[0m\u001b[0mkwargs\u001b[0m\u001b[1;33m)\u001b[0m\u001b[1;33m\u001b[0m\u001b[0m\n\u001b[0m\u001b[0;32m     42\u001b[0m         \u001b[1;32mreturn\u001b[0m \u001b[0mrange\u001b[0m\u001b[1;33m(\u001b[0m\u001b[0mold\u001b[0m\u001b[1;33m,\u001b[0m \u001b[0mgetnumfun\u001b[0m\u001b[1;33m(\u001b[0m\u001b[1;33m)\u001b[0m\u001b[1;33m)\u001b[0m\u001b[1;33m\u001b[0m\u001b[0m\n\u001b[0;32m     43\u001b[0m \u001b[1;33m\u001b[0m\u001b[0m\n",
      "\u001b[1;32m~\\Anaconda3\\lib\\site-packages\\cplex\\_internal\\_subinterfaces.py\u001b[0m in \u001b[0;36m_add\u001b[1;34m(self, lin_expr, senses, rhs, range_values, names)\u001b[0m\n\u001b[0;32m   1186\u001b[0m                 CPX_PROC.addrows(self._env._e, self._cplex._lp, 0,\n\u001b[0;32m   1187\u001b[0m                                  \u001b[0mnum_new_rows\u001b[0m\u001b[1;33m,\u001b[0m \u001b[0mnnz\u001b[0m\u001b[1;33m,\u001b[0m \u001b[0mrhs\u001b[0m\u001b[1;33m,\u001b[0m \u001b[0msenses\u001b[0m\u001b[1;33m,\u001b[0m\u001b[1;33m\u001b[0m\u001b[0m\n\u001b[1;32m-> 1188\u001b[1;33m                                  rmat, [], names)\n\u001b[0m\u001b[0;32m   1189\u001b[0m             \u001b[1;32mif\u001b[0m \u001b[0mrange_values\u001b[0m \u001b[1;33m!=\u001b[0m \u001b[1;33m[\u001b[0m\u001b[1;33m]\u001b[0m\u001b[1;33m:\u001b[0m\u001b[1;33m\u001b[0m\u001b[0m\n\u001b[0;32m   1190\u001b[0m                 CPX_PROC.chgrngval(\n",
      "\u001b[1;32m~\\Anaconda3\\lib\\site-packages\\cplex\\_internal\\_procedural.py\u001b[0m in \u001b[0;36maddrows\u001b[1;34m(env, lp, ccnt, rcnt, nzcnt, rhs, sense, rmat, colname, rowname)\u001b[0m\n\u001b[0;32m   1098\u001b[0m \u001b[1;33m\u001b[0m\u001b[0m\n\u001b[0;32m   1099\u001b[0m \u001b[1;32mdef\u001b[0m \u001b[0maddrows\u001b[0m\u001b[1;33m(\u001b[0m\u001b[0menv\u001b[0m\u001b[1;33m,\u001b[0m \u001b[0mlp\u001b[0m\u001b[1;33m,\u001b[0m \u001b[0mccnt\u001b[0m\u001b[1;33m,\u001b[0m \u001b[0mrcnt\u001b[0m\u001b[1;33m,\u001b[0m \u001b[0mnzcnt\u001b[0m\u001b[1;33m,\u001b[0m \u001b[0mrhs\u001b[0m\u001b[1;33m,\u001b[0m \u001b[0msense\u001b[0m\u001b[1;33m,\u001b[0m \u001b[0mrmat\u001b[0m\u001b[1;33m,\u001b[0m \u001b[0mcolname\u001b[0m\u001b[1;33m,\u001b[0m \u001b[0mrowname\u001b[0m\u001b[1;33m)\u001b[0m\u001b[1;33m:\u001b[0m\u001b[1;33m\u001b[0m\u001b[0m\n\u001b[1;32m-> 1100\u001b[1;33m     \u001b[1;32mwith\u001b[0m \u001b[0mLAU\u001b[0m\u001b[1;33m.\u001b[0m\u001b[0mdouble_c_array\u001b[0m\u001b[1;33m(\u001b[0m\u001b[0mrhs\u001b[0m\u001b[1;33m)\u001b[0m \u001b[1;32mas\u001b[0m \u001b[0mc_rhs\u001b[0m\u001b[1;33m:\u001b[0m\u001b[1;33m\u001b[0m\u001b[0m\n\u001b[0m\u001b[0;32m   1101\u001b[0m         status = CR.CPXXaddrows(\n\u001b[0;32m   1102\u001b[0m             \u001b[0menv\u001b[0m\u001b[1;33m,\u001b[0m \u001b[0mlp\u001b[0m\u001b[1;33m,\u001b[0m \u001b[0mccnt\u001b[0m\u001b[1;33m,\u001b[0m \u001b[0mrcnt\u001b[0m\u001b[1;33m,\u001b[0m \u001b[0mnzcnt\u001b[0m\u001b[1;33m,\u001b[0m \u001b[0mc_rhs\u001b[0m\u001b[1;33m,\u001b[0m\u001b[1;33m\u001b[0m\u001b[0m\n",
      "\u001b[1;32m~\\Anaconda3\\lib\\contextlib.py\u001b[0m in \u001b[0;36m__enter__\u001b[1;34m(self)\u001b[0m\n\u001b[0;32m    110\u001b[0m         \u001b[1;32mdel\u001b[0m \u001b[0mself\u001b[0m\u001b[1;33m.\u001b[0m\u001b[0margs\u001b[0m\u001b[1;33m,\u001b[0m \u001b[0mself\u001b[0m\u001b[1;33m.\u001b[0m\u001b[0mkwds\u001b[0m\u001b[1;33m,\u001b[0m \u001b[0mself\u001b[0m\u001b[1;33m.\u001b[0m\u001b[0mfunc\u001b[0m\u001b[1;33m\u001b[0m\u001b[0m\n\u001b[0;32m    111\u001b[0m         \u001b[1;32mtry\u001b[0m\u001b[1;33m:\u001b[0m\u001b[1;33m\u001b[0m\u001b[0m\n\u001b[1;32m--> 112\u001b[1;33m             \u001b[1;32mreturn\u001b[0m \u001b[0mnext\u001b[0m\u001b[1;33m(\u001b[0m\u001b[0mself\u001b[0m\u001b[1;33m.\u001b[0m\u001b[0mgen\u001b[0m\u001b[1;33m)\u001b[0m\u001b[1;33m\u001b[0m\u001b[0m\n\u001b[0m\u001b[0;32m    113\u001b[0m         \u001b[1;32mexcept\u001b[0m \u001b[0mStopIteration\u001b[0m\u001b[1;33m:\u001b[0m\u001b[1;33m\u001b[0m\u001b[0m\n\u001b[0;32m    114\u001b[0m             \u001b[1;32mraise\u001b[0m \u001b[0mRuntimeError\u001b[0m\u001b[1;33m(\u001b[0m\u001b[1;34m\"generator didn't yield\"\u001b[0m\u001b[1;33m)\u001b[0m \u001b[1;32mfrom\u001b[0m \u001b[1;32mNone\u001b[0m\u001b[1;33m\u001b[0m\u001b[0m\n",
      "\u001b[1;32m~\\Anaconda3\\lib\\site-packages\\cplex\\_internal\\_list_array_utils.py\u001b[0m in \u001b[0;36mdouble_c_array\u001b[1;34m(seq)\u001b[0m\n\u001b[0;32m    106\u001b[0m \u001b[1;32mdef\u001b[0m \u001b[0mdouble_c_array\u001b[0m\u001b[1;33m(\u001b[0m\u001b[0mseq\u001b[0m\u001b[1;33m)\u001b[0m\u001b[1;33m:\u001b[0m\u001b[1;33m\u001b[0m\u001b[0m\n\u001b[0;32m    107\u001b[0m     \u001b[1;34m\"\"\"See matrix_conversion.c:double_list_to_C_array().\"\"\"\u001b[0m\u001b[1;33m\u001b[0m\u001b[0m\n\u001b[1;32m--> 108\u001b[1;33m     \u001b[0marray\u001b[0m \u001b[1;33m=\u001b[0m \u001b[0mCPX\u001b[0m\u001b[1;33m.\u001b[0m\u001b[0mdouble_list_to_C_array\u001b[0m\u001b[1;33m(\u001b[0m\u001b[0mseq\u001b[0m\u001b[1;33m)\u001b[0m\u001b[1;33m\u001b[0m\u001b[0m\n\u001b[0m\u001b[0;32m    109\u001b[0m     \u001b[1;32mtry\u001b[0m\u001b[1;33m:\u001b[0m\u001b[1;33m\u001b[0m\u001b[0m\n\u001b[0;32m    110\u001b[0m         \u001b[1;32myield\u001b[0m \u001b[0marray\u001b[0m\u001b[1;33m\u001b[0m\u001b[0m\n",
      "\u001b[1;32m~\\Anaconda3\\lib\\site-packages\\cplex\\_internal\\_pycplex.py\u001b[0m in \u001b[0;36mdouble_list_to_C_array\u001b[1;34m(list)\u001b[0m\n\u001b[0;32m   1636\u001b[0m \u001b[1;33m\u001b[0m\u001b[0m\n\u001b[0;32m   1637\u001b[0m \u001b[1;32mdef\u001b[0m \u001b[0mdouble_list_to_C_array\u001b[0m\u001b[1;33m(\u001b[0m\u001b[0mlist\u001b[0m\u001b[1;33m:\u001b[0m \u001b[1;34m'PyObject *'\u001b[0m\u001b[1;33m)\u001b[0m \u001b[1;33m->\u001b[0m \u001b[1;34m\"PyObject *\"\u001b[0m\u001b[1;33m:\u001b[0m\u001b[1;33m\u001b[0m\u001b[0m\n\u001b[1;32m-> 1638\u001b[1;33m     \u001b[1;32mreturn\u001b[0m \u001b[0m_pycplex_platform\u001b[0m\u001b[1;33m.\u001b[0m\u001b[0mdouble_list_to_C_array\u001b[0m\u001b[1;33m(\u001b[0m\u001b[0mlist\u001b[0m\u001b[1;33m)\u001b[0m\u001b[1;33m\u001b[0m\u001b[0m\n\u001b[0m\u001b[0;32m   1639\u001b[0m \u001b[1;33m\u001b[0m\u001b[0m\n\u001b[0;32m   1640\u001b[0m \u001b[1;32mdef\u001b[0m \u001b[0mfree_int_C_array\u001b[0m\u001b[1;33m(\u001b[0m\u001b[0mPyptr\u001b[0m\u001b[1;33m:\u001b[0m \u001b[1;34m'PyObject *'\u001b[0m\u001b[1;33m)\u001b[0m \u001b[1;33m->\u001b[0m \u001b[1;34m\"void\"\u001b[0m\u001b[1;33m:\u001b[0m\u001b[1;33m\u001b[0m\u001b[0m\n",
      "\u001b[1;31mTypeError\u001b[0m: non-float value in input sequence ([173. 146.  44. 246. 451. 213. 408.  95.  55. 352. 203.  26.  13. 439.\n  72. 314. 397. 117.  89. 304. 276. 148.  36.  44. 108. 255. 139. 108.\n 389. 428. 224. 327. 377. 301. 182. 313. 372. 395. 244. 381.  48. 424.\n 102.  29.  68. 106. 184. 291. 248. 176. 422. 266. 362. 208. 150. 223.\n  56. 323. 158. 257. 177. 391. 254. 445. 104.  92. 239. 331. 282. 412.\n 233. 333. 218.  45. 115. 240. 209. 243. 361.  97. 126. 126.  18. 143.\n 412.  58. 258. 386.  77. 208. 257.  78. 443.   4. 250. 445. 356. 340.\n  15. 119.   2.  34. 414. 329. 359. 378. 220. 416.  35. 335. 409. 366.\n 217. 381. 428.  88. 235. 386.  42. 271.])"
     ]
    }
   ],
   "source": [
    "import Cplex_CalculateFitness\n",
    "individual = Cplex_CalculateFitness.generate_random_array(1)\n",
    "Cplex_CalculateFitness.calculate_fitness(individual)"
   ]
  },
  {
   "cell_type": "code",
   "execution_count": null,
   "metadata": {},
   "outputs": [],
   "source": []
  }
 ],
 "metadata": {
  "kernelspec": {
   "display_name": "Python 3",
   "language": "python",
   "name": "python3"
  },
  "language_info": {
   "codemirror_mode": {
    "name": "ipython",
    "version": 3
   },
   "file_extension": ".py",
   "mimetype": "text/x-python",
   "name": "python",
   "nbconvert_exporter": "python",
   "pygments_lexer": "ipython3",
   "version": "3.7.0"
  }
 },
 "nbformat": 4,
 "nbformat_minor": 2
}

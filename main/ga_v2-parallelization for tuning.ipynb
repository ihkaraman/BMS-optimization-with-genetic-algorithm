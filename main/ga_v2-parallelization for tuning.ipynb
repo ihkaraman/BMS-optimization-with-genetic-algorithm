{
 "cells": [
  {
   "cell_type": "code",
   "execution_count": 3,
   "metadata": {},
   "outputs": [],
   "source": [
    "import time\n",
    "import pandas as pd"
   ]
  },
  {
   "cell_type": "code",
   "execution_count": 7,
   "metadata": {},
   "outputs": [],
   "source": [
    "import concurrent.futures\n",
    "import os\n",
    "from functools import wraps\n",
    "import requests"
   ]
  },
  {
   "cell_type": "code",
   "execution_count": null,
   "metadata": {},
   "outputs": [],
   "source": [
    "import genetic_algorithm as ga"
   ]
  },
  {
   "cell_type": "code",
   "execution_count": 4,
   "metadata": {},
   "outputs": [],
   "source": [
    "def f():\n",
    "    start = time.time()\n",
    "    time.sleep(1)\n",
    "    end =time.time()\n",
    "    return end-start"
   ]
  },
  {
   "cell_type": "code",
   "execution_count": 5,
   "metadata": {},
   "outputs": [
    {
     "name": "stdout",
     "output_type": "stream",
     "text": [
      "16.08219075202942\n"
     ]
    }
   ],
   "source": [
    "k = []\n",
    "start = time.time()\n",
    "for i in range(16):\n",
    "    t = f()\n",
    "    k.append(t)\n",
    "end =time.time()\n",
    "print(end-start)"
   ]
  },
  {
   "cell_type": "code",
   "execution_count": 6,
   "metadata": {},
   "outputs": [
    {
     "name": "stderr",
     "output_type": "stream",
     "text": [
      "2021-01-14 20:22:40,849\tINFO services.py:1173 -- View the Ray dashboard at \u001b[1m\u001b[32mhttp://127.0.0.1:8265\u001b[39m\u001b[22m\n"
     ]
    },
    {
     "data": {
      "text/plain": [
       "{'node_ip_address': '192.168.0.11',\n",
       " 'raylet_ip_address': '192.168.0.11',\n",
       " 'redis_address': '192.168.0.11:6379',\n",
       " 'object_store_address': 'tcp://127.0.0.1:61463',\n",
       " 'raylet_socket_name': 'tcp://127.0.0.1:56940',\n",
       " 'webui_url': '127.0.0.1:8265',\n",
       " 'session_dir': 'C:\\\\Users\\\\ISMAIL~1\\\\AppData\\\\Local\\\\Temp\\\\ray\\\\session_2021-01-14_20-22-39_504892_19624',\n",
       " 'metrics_export_port': 64354,\n",
       " 'node_id': 'eb83f0cfd4aa874e1b15fcfc2c64ee2c94f9a326'}"
      ]
     },
     "execution_count": 6,
     "metadata": {},
     "output_type": "execute_result"
    }
   ],
   "source": [
    "import ray\n",
    "ray.init()"
   ]
  },
  {
   "cell_type": "code",
   "execution_count": 9,
   "metadata": {},
   "outputs": [],
   "source": [
    "@ray.remote\n",
    "def run(parameters):\n",
    "    result = ga.run(parameters)\n",
    "    return result"
   ]
  },
  {
   "cell_type": "code",
   "execution_count": 10,
   "metadata": {},
   "outputs": [
    {
     "name": "stdout",
     "output_type": "stream",
     "text": [
      "[1.006225347518921, 1.006225347518921, 1.006225347518921, 1.006225347518921, 1.006225347518921, 1.006225347518921, 1.006225347518921, 1.006225347518921, 1.006225347518921, 1.006225347518921, 1.006225347518921, 1.006225347518921, 1.006225347518921, 1.006225347518921, 1.006225347518921, 1.006225347518921]\n",
      "1.0302314758300781\n"
     ]
    }
   ],
   "source": [
    "start = time.time()\n",
    "futures = [run(parameters) for parameters in parameters_pool]\n",
    "end =time.time()\n",
    "print(end-start)"
   ]
  },
  {
   "cell_type": "code",
   "execution_count": 11,
   "metadata": {},
   "outputs": [
    {
     "data": {
      "text/plain": [
       "{1: 'at', 2: 'aa'}"
      ]
     },
     "execution_count": 11,
     "metadata": {},
     "output_type": "execute_result"
    }
   ],
   "source": [
    "results = ray.get(futures)"
   ]
  },
  {
   "cell_type": "markdown",
   "metadata": {},
   "source": [
    "### algorithm settings"
   ]
  },
  {
   "cell_type": "code",
   "execution_count": 15,
   "metadata": {},
   "outputs": [],
   "source": [
    "k = 10 # number of clusters in k-means\n",
    "population_size = 30 \n",
    "\n",
    "# crossover parameters\n",
    "crossover_probability = 0.7\n",
    "crossover_type = 1 # integer for n-point crossover\n",
    "fitness_function = 'cost' # fitness function type; cost or distance based ['cost', 'distance']\n",
    "\n",
    "# must be even!\n",
    "elitism_ratio = 0.2  # percentage of best population will carry over to the next generation\n",
    "max_parent_allowance = 3 # population_size//8 # maximum number of times an individual can be a parent during selection process\n",
    "\n",
    "#mutation parameters\n",
    "mutation_probability = 0.05 # probability of mutation\n",
    "mutation_rate = 0.1 # rate of mutation for an individual\n",
    "mutation_level = 0.3 # percentage of increase/decrease for a gene during mutation\n",
    "\n",
    "# algorithm settings\n",
    "max_iter = 500\n",
    "\n",
    "individual_size = 120\n",
    "stop_thrs = 100"
   ]
  },
  {
   "cell_type": "markdown",
   "metadata": {},
   "source": [
    "### run with above parameters"
   ]
  },
  {
   "cell_type": "code",
   "execution_count": 16,
   "metadata": {},
   "outputs": [],
   "source": [
    "parameters = [\n",
    "                individual_size, population_size, k,\\\n",
    "                max_iter, \\\n",
    "                fitness_function,  crossover_type, crossover_probability, \\\n",
    "                elitism_ratio, max_parent_allowance, \\\n",
    "                mutation_probability, mutation_rate, mutation_level, \\\n",
    "                max_iter, stop_thrs\n",
    "             ]"
   ]
  },
  {
   "cell_type": "code",
   "execution_count": 17,
   "metadata": {},
   "outputs": [
    {
     "data": {
      "text/plain": [
       "[120, 30, 10, 500, 'cost', 1, 0.7, 0.2, 3, 0.05, 0.1, 0.3, 500, 100]"
      ]
     },
     "execution_count": 17,
     "metadata": {},
     "output_type": "execute_result"
    }
   ],
   "source": [
    "parameters"
   ]
  },
  {
   "cell_type": "code",
   "execution_count": null,
   "metadata": {},
   "outputs": [
    {
     "name": "stderr",
     "output_type": "stream",
     "text": [
      "C:\\Users\\IsmailKaraman\\Anaconda3\\lib\\site-packages\\ipykernel_launcher.py:82: DeprecationWarning: elementwise != comparison failed; this will raise an error in the future.\n"
     ]
    },
    {
     "name": "stdout",
     "output_type": "stream",
     "text": [
      "create_mating_pool:  21.90393328666687\n",
      "create_mating_pool:  24.014516353607178\n",
      "create_mating_pool:  21.81338143348694\n",
      "create_mating_pool:  21.79789972305298\n",
      "create_mating_pool:  21.7739040851593\n",
      "create_mating_pool:  21.78987145423889\n",
      "create_mating_pool:  21.827916145324707\n",
      "create_mating_pool:  24.3300621509552\n",
      "create_mating_pool:  22.223495721817017\n",
      "create_mating_pool:  24.041908979415894\n",
      "iteration:  10\n",
      "min cost found:  20.711001333000027\n",
      "create_mating_pool:  21.94531774520874\n",
      "create_mating_pool:  21.868925094604492\n",
      "create_mating_pool:  21.86083960533142\n",
      "create_mating_pool:  21.83690881729126\n",
      "create_mating_pool:  21.830958366394043\n",
      "create_mating_pool:  23.991402864456177\n",
      "create_mating_pool:  21.815924406051636\n",
      "create_mating_pool:  23.976136684417725\n",
      "create_mating_pool:  23.964730978012085\n",
      "create_mating_pool:  21.77644371986389\n",
      "iteration:  20\n",
      "min cost found:  20.349001264453367\n",
      "create_mating_pool:  21.8199143409729\n",
      "create_mating_pool:  22.013108730316162\n",
      "create_mating_pool:  21.855912923812866\n",
      "create_mating_pool:  21.955944776535034\n",
      "create_mating_pool:  21.808911561965942\n",
      "create_mating_pool:  21.821914672851562\n",
      "create_mating_pool:  21.859923362731934\n"
     ]
    }
   ],
   "source": [
    "run(parameters)"
   ]
  },
  {
   "cell_type": "markdown",
   "metadata": {},
   "source": [
    "### tuning parameters"
   ]
  },
  {
   "cell_type": "code",
   "execution_count": null,
   "metadata": {},
   "outputs": [],
   "source": [
    "k = [5, 10, 20] \n",
    "population_size = [20,30,50,100]\n",
    "\n",
    "# crossover parameters\n",
    "crossover_probability = [0.5, 0.7, 1.0]\n",
    "crossover_type = [1, 2, 3] \n",
    "fitness_function = ['cost', 'distance']\n",
    "\n",
    "# must be even!\n",
    "elitism_ratio = [0, 0.2, 0.4] \n",
    "max_parent_allowance = [0.125, 0.25, 0.5]\n",
    "\n",
    "#mutation parameters\n",
    "mutation_probability = [0, 0.05, 0.1] # probability of mutation\n",
    "mutation_rate = [0.05, 0.5] # rate of mutation for an individual\n",
    "mutation_level = [0.1, 0.3, 0.5] # percentage of increase/decrease for a gene during mutation\n",
    "\n",
    "# algorithm settings\n",
    "max_iter = [100, 500, 1000] \n",
    "stop_thrs = 10"
   ]
  },
  {
   "cell_type": "code",
   "execution_count": null,
   "metadata": {},
   "outputs": [],
   "source": [
    "=3*4*"
   ]
  },
  {
   "cell_type": "code",
   "execution_count": null,
   "metadata": {},
   "outputs": [],
   "source": [
    "solution_costs"
   ]
  },
  {
   "cell_type": "code",
   "execution_count": 23,
   "metadata": {},
   "outputs": [
    {
     "ename": "TypeError",
     "evalue": "Expected int as r",
     "output_type": "error",
     "traceback": [
      "\u001b[1;31m---------------------------------------------------------------------------\u001b[0m",
      "\u001b[1;31mTypeError\u001b[0m                                 Traceback (most recent call last)",
      "\u001b[1;32m<ipython-input-23-9becc5d130e0>\u001b[0m in \u001b[0;36m<module>\u001b[1;34m()\u001b[0m\n\u001b[0;32m      3\u001b[0m \u001b[0mall_combinations\u001b[0m \u001b[1;33m=\u001b[0m \u001b[1;33m[\u001b[0m\u001b[1;33m]\u001b[0m\u001b[1;33m\u001b[0m\u001b[0m\n\u001b[0;32m      4\u001b[0m \u001b[1;33m\u001b[0m\u001b[0m\n\u001b[1;32m----> 5\u001b[1;33m \u001b[0mlist1_permutations\u001b[0m \u001b[1;33m=\u001b[0m \u001b[0mitertools\u001b[0m\u001b[1;33m.\u001b[0m\u001b[0mpermutations\u001b[0m\u001b[1;33m(\u001b[0m\u001b[0mlist1\u001b[0m\u001b[1;33m,\u001b[0m \u001b[0mlist2\u001b[0m\u001b[1;33m)\u001b[0m\u001b[1;33m\u001b[0m\u001b[0m\n\u001b[0m",
      "\u001b[1;31mTypeError\u001b[0m: Expected int as r"
     ]
    }
   ],
   "source": [
    "list1 = [\"a\", \"b\", \"c\"]\n",
    "list2 = [1, 2]\n",
    "all_combinations = []\n",
    "\n",
    "list1_permutations = itertools.permutations(list1, len(list2))"
   ]
  },
  {
   "cell_type": "code",
   "execution_count": 19,
   "metadata": {},
   "outputs": [],
   "source": [
    "import itertools"
   ]
  },
  {
   "cell_type": "code",
   "execution_count": 28,
   "metadata": {},
   "outputs": [],
   "source": [
    "param_grid = [\n",
    "  {'C': [1, 10, 100, 1000], 'kernel': ['linear']},\n",
    "  {'C': [1, 10, 100, 1000], 'gamma': [0.001, 0.0001], 'kernel': ['rbf']},\n",
    " ]"
   ]
  },
  {
   "cell_type": "code",
   "execution_count": 24,
   "metadata": {},
   "outputs": [],
   "source": [
    "param_grid = {'a':[1,2,3], 'b':[4,5,6]}"
   ]
  },
  {
   "cell_type": "code",
   "execution_count": 29,
   "metadata": {},
   "outputs": [
    {
     "ename": "NameError",
     "evalue": "name 'product' is not defined",
     "output_type": "error",
     "traceback": [
      "\u001b[1;31m---------------------------------------------------------------------------\u001b[0m",
      "\u001b[1;31mNameError\u001b[0m                                 Traceback (most recent call last)",
      "\u001b[1;32m<ipython-input-29-bcd2412ce1b8>\u001b[0m in \u001b[0;36m<module>\u001b[1;34m()\u001b[0m\n\u001b[0;32m      4\u001b[0m \u001b[1;33m\u001b[0m\u001b[0m\n\u001b[0;32m      5\u001b[0m     \u001b[0mkeys\u001b[0m\u001b[1;33m,\u001b[0m \u001b[0mvalues\u001b[0m \u001b[1;33m=\u001b[0m \u001b[0mzip\u001b[0m\u001b[1;33m(\u001b[0m\u001b[1;33m*\u001b[0m\u001b[0mitems\u001b[0m\u001b[1;33m)\u001b[0m\u001b[1;33m\u001b[0m\u001b[0m\n\u001b[1;32m----> 6\u001b[1;33m     \u001b[1;32mfor\u001b[0m \u001b[0mv\u001b[0m \u001b[1;32min\u001b[0m \u001b[0mproduct\u001b[0m\u001b[1;33m(\u001b[0m\u001b[1;33m*\u001b[0m\u001b[0mvalues\u001b[0m\u001b[1;33m)\u001b[0m\u001b[1;33m:\u001b[0m\u001b[1;33m\u001b[0m\u001b[0m\n\u001b[0m\u001b[0;32m      7\u001b[0m         \u001b[0mparams\u001b[0m \u001b[1;33m=\u001b[0m \u001b[0mdict\u001b[0m\u001b[1;33m(\u001b[0m\u001b[0mzip\u001b[0m\u001b[1;33m(\u001b[0m\u001b[0mkeys\u001b[0m\u001b[1;33m,\u001b[0m \u001b[0mv\u001b[0m\u001b[1;33m)\u001b[0m\u001b[1;33m)\u001b[0m\u001b[1;33m\u001b[0m\u001b[0m\n",
      "\u001b[1;31mNameError\u001b[0m: name 'product' is not defined"
     ]
    }
   ],
   "source": [
    "for p in param_grid:\n",
    "    \n",
    "    items = sorted(p.items())\n",
    "\n",
    "    keys, values = zip(*items)\n",
    "    for v in product(*values):\n",
    "        params = dict(zip(keys, v))"
   ]
  },
  {
   "cell_type": "code",
   "execution_count": 38,
   "metadata": {},
   "outputs": [],
   "source": [
    "import Calculate_Fitness as cf"
   ]
  },
  {
   "cell_type": "code",
   "execution_count": 39,
   "metadata": {},
   "outputs": [],
   "source": [
    "fitness_values = {}"
   ]
  },
  {
   "cell_type": "code",
   "execution_count": 86,
   "metadata": {},
   "outputs": [],
   "source": [
    "def calculate_fitness(individual):\n",
    "    \n",
    "    def fitness(key):\n",
    "        \n",
    "        try:\n",
    "            fitness_values[key] = cf.CalculateFitness(individual)\n",
    "        except:\n",
    "            return 999999.9 # if a solution is not feasible then assign its obj func\n",
    "    \n",
    "    # key = str(list(individual.ravel()))\n",
    "    key = str(individual)\n",
    "    \n",
    "    return fitness_values.get(key, fitness(key))"
   ]
  },
  {
   "cell_type": "code",
   "execution_count": 87,
   "metadata": {},
   "outputs": [
    {
     "data": {
      "text/plain": [
       "(120,)"
      ]
     },
     "execution_count": 87,
     "metadata": {},
     "output_type": "execute_result"
    }
   ],
   "source": [
    "import numpy as np\n",
    "individual = np.random.randint(0,400,120)\n",
    "individual.shape"
   ]
  },
  {
   "cell_type": "code",
   "execution_count": 88,
   "metadata": {},
   "outputs": [
    {
     "data": {
      "text/plain": [
       "0.008001565933227539"
      ]
     },
     "execution_count": 88,
     "metadata": {},
     "output_type": "execute_result"
    }
   ],
   "source": [
    "start = time.time()\n",
    "c = calculate_fitness(individual)\n",
    "(time.time() - start)"
   ]
  },
  {
   "cell_type": "code",
   "execution_count": 89,
   "metadata": {},
   "outputs": [
    {
     "data": {
      "text/plain": [
       "0.008001089096069336"
      ]
     },
     "execution_count": 89,
     "metadata": {},
     "output_type": "execute_result"
    }
   ],
   "source": [
    "start = time.time()\n",
    "calculate_fitness(individual)\n",
    "time.time() - start"
   ]
  },
  {
   "cell_type": "code",
   "execution_count": 47,
   "metadata": {},
   "outputs": [
    {
     "data": {
      "text/plain": [
       "21.030880738803194"
      ]
     },
     "execution_count": 47,
     "metadata": {},
     "output_type": "execute_result"
    }
   ],
   "source": [
    "c"
   ]
  },
  {
   "cell_type": "code",
   "execution_count": 50,
   "metadata": {},
   "outputs": [
    {
     "data": {
      "text/plain": [
       "0.0"
      ]
     },
     "execution_count": 50,
     "metadata": {},
     "output_type": "execute_result"
    }
   ],
   "source": [
    "start = time.time()\n",
    "fitness_values[str(individual)]\n",
    "time.time() - start"
   ]
  },
  {
   "cell_type": "code",
   "execution_count": 55,
   "metadata": {},
   "outputs": [
    {
     "data": {
      "text/plain": [
       "0.008002281188964844"
      ]
     },
     "execution_count": 55,
     "metadata": {},
     "output_type": "execute_result"
    }
   ],
   "source": [
    "start = time.time()\n",
    "fitness_values.get(str(individual), calculate_fitness(str(individual)))\n",
    "time.time() - start"
   ]
  },
  {
   "cell_type": "code",
   "execution_count": 58,
   "metadata": {},
   "outputs": [],
   "source": [
    "at = {1:1, 2:4, 3:9}"
   ]
  },
  {
   "cell_type": "code",
   "execution_count": 57,
   "metadata": {},
   "outputs": [
    {
     "data": {
      "text/plain": [
       "0.0"
      ]
     },
     "execution_count": 57,
     "metadata": {},
     "output_type": "execute_result"
    }
   ],
   "source": [
    "start = time.time()\n",
    "fitness_values[str(individual)]\n",
    "time.time() - start"
   ]
  },
  {
   "cell_type": "code",
   "execution_count": 66,
   "metadata": {},
   "outputs": [],
   "source": [
    "def aa(x):\n",
    "    at[x] = x**2"
   ]
  },
  {
   "cell_type": "code",
   "execution_count": 75,
   "metadata": {},
   "outputs": [
    {
     "data": {
      "text/plain": [
       "2"
      ]
     },
     "execution_count": 75,
     "metadata": {},
     "output_type": "execute_result"
    }
   ],
   "source": [
    "x=6\n",
    "at.get(x, 2)"
   ]
  },
  {
   "cell_type": "code",
   "execution_count": 72,
   "metadata": {},
   "outputs": [
    {
     "data": {
      "text/plain": [
       "{1: 1, 2: 4, 3: 9, 4: 16, 5: 25}"
      ]
     },
     "execution_count": 72,
     "metadata": {},
     "output_type": "execute_result"
    }
   ],
   "source": [
    "at"
   ]
  },
  {
   "cell_type": "code",
   "execution_count": null,
   "metadata": {},
   "outputs": [],
   "source": []
  }
 ],
 "metadata": {
  "kernelspec": {
   "display_name": "Python 3",
   "language": "python",
   "name": "python3"
  },
  "language_info": {
   "codemirror_mode": {
    "name": "ipython",
    "version": 3
   },
   "file_extension": ".py",
   "mimetype": "text/x-python",
   "name": "python",
   "nbconvert_exporter": "python",
   "pygments_lexer": "ipython3",
   "version": "3.7.0"
  }
 },
 "nbformat": 4,
 "nbformat_minor": 4
}

{
 "cells": [
  {
   "cell_type": "code",
   "execution_count": 6,
   "metadata": {},
   "outputs": [],
   "source": [
    "import math\n",
    "import pickle\n",
    "import time\n",
    "import random\n",
    "import numpy as np\n",
    "\n",
    "import kmeans\n",
    "import Cplex_CalculateFitness\n",
    "\n",
    "import matplotlib.pyplot as plt\n",
    "from matplotlib import figure"
   ]
  },
  {
   "cell_type": "code",
   "execution_count": 7,
   "metadata": {},
   "outputs": [],
   "source": [
    "import concurrent.futures\n",
    "import os\n",
    "from functools import wraps\n",
    "import requests"
   ]
  },
  {
   "cell_type": "code",
   "execution_count": 8,
   "metadata": {},
   "outputs": [],
   "source": [
    "# variables\n",
    "file = open(\"fitness_values.pickle\", \"rb\")\n",
    "fitness_values = pickle.load(file)\n",
    "file.close()\n",
    "\n",
    "solution_individuals = []\n",
    "solution_costs = []"
   ]
  },
  {
   "cell_type": "markdown",
   "metadata": {},
   "source": [
    "# ideas"
   ]
  },
  {
   "cell_type": "markdown",
   "metadata": {},
   "source": [
    "- update mutation probability adaptively"
   ]
  },
  {
   "cell_type": "markdown",
   "metadata": {},
   "source": [
    "# definitions"
   ]
  },
  {
   "cell_type": "markdown",
   "metadata": {},
   "source": [
    "Gene: a city (represented as (x, y) coordinates)       \n",
    "Individual (aka “chromosome”): a single route satisfying the conditions above        \n",
    "Population: a collection of possible routes (i.e., collection of individuals)    \n",
    "Parents: two routes that are combined to create a new route         \n",
    "Mating pool: a collection of parents that are used to create our next population (thus creating the next generation of routes)   \n",
    "Fitness: a function that tells us how good each route is (in our case, how short the distance is)       \n",
    "Mutation: a way to introduce variation in our population by randomly swapping two cities in a route          \n",
    "Elitism: a way to carry the best individuals into the next generation      "
   ]
  },
  {
   "cell_type": "markdown",
   "metadata": {},
   "source": [
    "# decisions in ga"
   ]
  },
  {
   "cell_type": "markdown",
   "metadata": {},
   "source": [
    "+ Chromosome representation or coding of an individual solution   \n",
    "+ Fitness function   \n",
    "- Population size, generation of initial population  \n",
    "+ Parent selection for reproduction  \n",
    "+ Crossover operator, crossover rate/probability (pc)  \n",
    "+ Mutation operator, mutation probability (pm),  \n",
    "+ Forming the population for next generation  \n",
    "+ Stopping (convergence) condition  "
   ]
  },
  {
   "cell_type": "markdown",
   "metadata": {},
   "source": [
    "key of a population dictionary: list(ind.ravel())"
   ]
  },
  {
   "cell_type": "markdown",
   "metadata": {},
   "source": [
    "### k-means"
   ]
  },
  {
   "cell_type": "markdown",
   "metadata": {},
   "source": [
    "size=(500, 100)\n",
    "points = np.random.random(size=size)*10\n",
    "clusters, centroids = kmeans.kmeans(points, k)"
   ]
  },
  {
   "cell_type": "markdown",
   "metadata": {},
   "source": [
    "### generate initial population"
   ]
  },
  {
   "cell_type": "markdown",
   "metadata": {},
   "source": [
    "x adet  initial population için 5x random çözüm bul ve bunların fitnesslarını ve birbiriyle olan benzemezliklerini hesapla. bu iki değere göre en iyi x taneyi initial olarak al.\n",
    "sadece benzemezlik değerine göre al."
   ]
  },
  {
   "cell_type": "markdown",
   "metadata": {},
   "source": [
    "initial population alırken 5x feasible initial solution'u alıp dbscan ya da kmeans ile diversiy sonuçlar elde edebiliriz."
   ]
  },
  {
   "cell_type": "code",
   "execution_count": 4,
   "metadata": {},
   "outputs": [],
   "source": [
    "def initialize_population(pop_size):\n",
    "    '''\n",
    "    Initializing a population which has feasible and random individuals.\n",
    "    \n",
    "    Args:\n",
    "        ind_size (tuple): size of each individual\n",
    "        pop_size (int) : number of individuals will be created\n",
    "        lower_limit (int) : the lower limit of each value can take\n",
    "        upper_limit (int) : the upper limit of each value can take\n",
    "    Returns:\n",
    "        initial_population (array) : list of individuals formed by random integers\n",
    "    '''\n",
    "\n",
    "    initial_population = Cplex_CalculateFitness.generate_random_array(pop_size)\n",
    "    \n",
    "    # initial_population = np.random.randint(lower_limit, upper_limit, size=(pop_size, ind_size))\n",
    "    \n",
    "    return initial_population"
   ]
  },
  {
   "cell_type": "code",
   "execution_count": 43,
   "metadata": {},
   "outputs": [],
   "source": [
    "def fitness(individual):\n",
    "    \n",
    "    key = str(individual)\n",
    "    \n",
    "    def cplex_cost(key, individual):\n",
    "        try:\n",
    "            fitness_values[key] = Cplex_CalculateFitness.calculate_fitness(individual)\n",
    "        except:\n",
    "            return 999999.9 # if a solution is not feasible then assign its obj func\n",
    "        \n",
    "    return fitness_values.get(key, cplex_cost(key, individual))"
   ]
  },
  {
   "cell_type": "code",
   "execution_count": 44,
   "metadata": {},
   "outputs": [],
   "source": [
    "def make_parallel(func):\n",
    "    \"\"\"\n",
    "        Decorator used to decorate any function which needs to be parallized.\n",
    "        After the input of the function should be a list in which each element is a instance of input fot the normal function.\n",
    "        You can also pass in keyword arguements seperatley.\n",
    "        :param func: function\n",
    "            The instance of the function that needs to be parallelized.\n",
    "        :return: function\n",
    "    \"\"\"\n",
    "\n",
    "    @wraps(func)\n",
    "    def wrapper(lst):\n",
    "\n",
    "        # the number of threads that can be max-spawned.\n",
    "        # If the number of threads are too high, then the overhead of creating the threads will be significant.\n",
    "        # Here we are choosing the number of CPUs available in the system and then multiplying it with a constant.\n",
    "        # In my system, i have a total of 8 CPUs so i will be generating a maximum of 16 threads in my system.\n",
    "        number_of_threads_multiple = 2 # You can change this multiple according to you requirement\n",
    "        number_of_workers = int(os.cpu_count() * number_of_threads_multiple)\n",
    "        \n",
    "        print(number_of_workers)\n",
    "        \n",
    "        if len(lst) < number_of_workers:\n",
    "            # If the length of the list is low, we would only require those many number of threads.\n",
    "            # Here we are avoiding creating unnecessary threads\n",
    "            number_of_workers = len(lst)\n",
    "            print(number_of_workers)\n",
    "\n",
    "        if number_of_workers:\n",
    "            if number_of_workers == 1:\n",
    "                # If the length of the list that needs to be parallelized is 1, there is no point in\n",
    "                # parallelizing the function.\n",
    "                # So we run it serially.\n",
    "                result = [func(lst[0])]\n",
    "            else:\n",
    "                # Core Code, where we are creating max number of threads and running the decorated function in parallel.\n",
    "                result = []\n",
    "                with concurrent.futures.ThreadPoolExecutor(max_workers=number_of_workers) as executer:\n",
    "                    bag = {executer.submit(func, i): i for i in lst}\n",
    "                    for future in concurrent.futures.as_completed(bag):\n",
    "                        result.append(future.result())\n",
    "        else:\n",
    "            result = []\n",
    "        return result\n",
    "    return wrapper"
   ]
  },
  {
   "cell_type": "code",
   "execution_count": 45,
   "metadata": {},
   "outputs": [],
   "source": [
    "def calculate_fitness(population):\n",
    "  \n",
    "    res = make_parallel(fitness)(population)\n",
    "    \n",
    "    return res"
   ]
  },
  {
   "cell_type": "code",
   "execution_count": 46,
   "metadata": {},
   "outputs": [
    {
     "name": "stdout",
     "output_type": "stream",
     "text": [
      "6.0723676681518555\n"
     ]
    }
   ],
   "source": [
    "pop = np.random.randint(0,100, size=(100,120))\n",
    "start = time.time()\n",
    "k1 = [fitness(i) for i in pop]\n",
    "end =time.time()\n",
    "print(end-start)"
   ]
  },
  {
   "cell_type": "code",
   "execution_count": 47,
   "metadata": {},
   "outputs": [
    {
     "name": "stdout",
     "output_type": "stream",
     "text": [
      "64\n",
      "6.397441387176514\n"
     ]
    }
   ],
   "source": [
    "start = time.time()\n",
    "k2 = calculate_fitness(pop)\n",
    "end =time.time()\n",
    "print(end-start)"
   ]
  },
  {
   "cell_type": "code",
   "execution_count": 48,
   "metadata": {},
   "outputs": [
    {
     "data": {
      "text/plain": [
       "([14.11600029991251,\n",
       "  14.254000336058699,\n",
       "  13.93900031635773,\n",
       "  14.21200031765966,\n",
       "  14.443000327754591],\n",
       " [14.11600029991251,\n",
       "  14.254000336058699,\n",
       "  14.377000372855369,\n",
       "  14.383000332964771,\n",
       "  14.683000376925733])"
      ]
     },
     "execution_count": 48,
     "metadata": {},
     "output_type": "execute_result"
    }
   ],
   "source": [
    "k1[0:5], k2[0:5]"
   ]
  },
  {
   "cell_type": "code",
   "execution_count": 11,
   "metadata": {},
   "outputs": [],
   "source": [
    "# technical settings\n",
    "individual_size = 120\n",
    "stop_thrs = 10"
   ]
  },
  {
   "cell_type": "markdown",
   "metadata": {},
   "source": [
    "### algorithm settings"
   ]
  },
  {
   "cell_type": "code",
   "execution_count": 12,
   "metadata": {},
   "outputs": [],
   "source": [
    "k_list = [5, 10, 20] \n",
    "population_size_list = [20,30,50,100]\n",
    "\n",
    "# crossover parameters\n",
    "crossover_probability_list = [0.5, 0.7, 1.0]\n",
    "crossover_type_list = [1, 2, 3] \n",
    "fitness_function_list = ['cost', 'distance']\n",
    "\n",
    "# must be even!\n",
    "elitism_ratio_list = [0, 0.2, 0.4] \n",
    "max_parent_allowance_list = [0.125, 0.25, 0.5]\n",
    "\n",
    "#mutation parameters\n",
    "mutation_probability_list = [0, 0.05, 0.1]\n",
    "mutation_rate_list = [0.05, 0.5] \n",
    "mutation_level_list = [0.1, 0.3, 0.5]\n",
    "\n",
    "# algorithm settings\n",
    "max_iter_list = [100, 500, 1000] \n"
   ]
  },
  {
   "cell_type": "markdown",
   "metadata": {},
   "source": [
    "### run with above parameters"
   ]
  },
  {
   "cell_type": "code",
   "execution_count": 13,
   "metadata": {},
   "outputs": [],
   "source": []
  },
  {
   "cell_type": "code",
   "execution_count": null,
   "metadata": {},
   "outputs": [],
   "source": [
    "stop"
   ]
  },
  {
   "cell_type": "markdown",
   "metadata": {},
   "source": [
    "### tuning parameters"
   ]
  },
  {
   "cell_type": "code",
   "execution_count": null,
   "metadata": {},
   "outputs": [],
   "source": [
    "k = [5, 10, 20] \n",
    "population_size = [20,40, 100]\n",
    "\n",
    "# crossover parameters\n",
    "crossover_probability = [0.5, 0.7, 1.0]\n",
    "crossover_type = [1, 2, 3] \n",
    "fitness_function = ['cost', 'distance']\n",
    "\n",
    "# must be even!\n",
    "elitism_ratio = [0, 0.2, 0.4] \n",
    "max_parent_allowance = [0.125, 0.25, 0.5]\n",
    "\n",
    "#mutation parameters\n",
    "mutation_probability = [0, 0.05, 0.1] # probability of mutation\n",
    "mutation_rate = [0.05, 0.5] # rate of mutation for an individual\n",
    "mutation_level = [0.1, 0.3, 0.5] # percentage of increase/decrease for a gene during mutation\n",
    "\n",
    "# algorithm settings\n",
    "max_iter = [100, 500, 1000] \n",
    "stop_thrs = 10"
   ]
  },
  {
   "cell_type": "code",
   "execution_count": null,
   "metadata": {},
   "outputs": [],
   "source": [
    "parameters = [\n",
    "                individual_size, population_size, k,\\\n",
    "                max_iter, \\\n",
    "                fitness_function,  crossover_type, crossover_probability, \\\n",
    "                elitism_ratio, max_parent_allowance, \\\n",
    "                mutation_probability, mutation_rate, mutation_level, \\\n",
    "                max_iter, stop_thrs\n",
    "             ]"
   ]
  },
  {
   "cell_type": "code",
   "execution_count": null,
   "metadata": {},
   "outputs": [],
   "source": [
    "plot_cost(costs) # costs func ile çalışır"
   ]
  },
  {
   "cell_type": "code",
   "execution_count": null,
   "metadata": {},
   "outputs": [],
   "source": [
    "results = run(parameters)"
   ]
  },
  {
   "cell_type": "code",
   "execution_count": null,
   "metadata": {},
   "outputs": [],
   "source": [
    "dataframe'in ilk kolonu run_number\n",
    "her bir run'ı 10 kere al sonuçların averag'ını bul"
   ]
  }
 ],
 "metadata": {
  "kernelspec": {
   "display_name": "Python 3",
   "language": "python",
   "name": "python3"
  },
  "language_info": {
   "codemirror_mode": {
    "name": "ipython",
    "version": 3
   },
   "file_extension": ".py",
   "mimetype": "text/x-python",
   "name": "python",
   "nbconvert_exporter": "python",
   "pygments_lexer": "ipython3",
   "version": "3.7.0"
  }
 },
 "nbformat": 4,
 "nbformat_minor": 4
}

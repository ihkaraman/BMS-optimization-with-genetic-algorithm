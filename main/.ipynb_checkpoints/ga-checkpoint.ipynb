{
 "cells": [
  {
   "cell_type": "code",
   "execution_count": 1,
   "metadata": {},
   "outputs": [],
   "source": [
    "import math\n",
    "import pickle\n",
    "import time\n",
    "import random\n",
    "import numpy as np\n",
    "\n",
    "import kmeans\n",
    "import Cplex_CalculateFitness\n",
    "\n",
    "import matplotlib.pyplot as plt\n",
    "from matplotlib import figure"
   ]
  },
  {
   "cell_type": "code",
   "execution_count": 2,
   "metadata": {},
   "outputs": [],
   "source": [
    "# variables\n",
    "file = open(\"fitness_values.pickle\", \"rb\")\n",
    "fitness_values = pickle.load(file)\n",
    "file.close()\n",
    "\n",
    "solution_individuals = []\n",
    "solution_costs = []"
   ]
  },
  {
   "cell_type": "markdown",
   "metadata": {},
   "source": [
    "# ideas"
   ]
  },
  {
   "cell_type": "markdown",
   "metadata": {},
   "source": [
    "- update mutation probability adaptively"
   ]
  },
  {
   "cell_type": "markdown",
   "metadata": {},
   "source": [
    "# definitions"
   ]
  },
  {
   "cell_type": "markdown",
   "metadata": {},
   "source": [
    "Gene: a city (represented as (x, y) coordinates)       \n",
    "Individual (aka “chromosome”): a single route satisfying the conditions above        \n",
    "Population: a collection of possible routes (i.e., collection of individuals)    \n",
    "Parents: two routes that are combined to create a new route         \n",
    "Mating pool: a collection of parents that are used to create our next population (thus creating the next generation of routes)   \n",
    "Fitness: a function that tells us how good each route is (in our case, how short the distance is)       \n",
    "Mutation: a way to introduce variation in our population by randomly swapping two cities in a route          \n",
    "Elitism: a way to carry the best individuals into the next generation      "
   ]
  },
  {
   "cell_type": "markdown",
   "metadata": {},
   "source": [
    "# decisions in ga"
   ]
  },
  {
   "cell_type": "markdown",
   "metadata": {},
   "source": [
    "+ Chromosome representation or coding of an individual solution   \n",
    "+ Fitness function   \n",
    "- Population size, generation of initial population  \n",
    "+ Parent selection for reproduction  \n",
    "+ Crossover operator, crossover rate/probability (pc)  \n",
    "+ Mutation operator, mutation probability (pm),  \n",
    "+ Forming the population for next generation  \n",
    "+ Stopping (convergence) condition  "
   ]
  },
  {
   "cell_type": "markdown",
   "metadata": {},
   "source": [
    "key of a population dictionary: list(ind.ravel())"
   ]
  },
  {
   "cell_type": "markdown",
   "metadata": {},
   "source": [
    "### k-means"
   ]
  },
  {
   "cell_type": "markdown",
   "metadata": {},
   "source": [
    "size=(500, 100)\n",
    "points = np.random.random(size=size)*10\n",
    "clusters, centroids = kmeans.kmeans(points, k)"
   ]
  },
  {
   "cell_type": "markdown",
   "metadata": {},
   "source": [
    "### generate initial population"
   ]
  },
  {
   "cell_type": "markdown",
   "metadata": {},
   "source": [
    "x adet  initial population için 5x random çözüm bul ve bunların fitnesslarını ve birbiriyle olan benzemezliklerini hesapla. bu iki değere göre en iyi x taneyi initial olarak al.\n",
    "sadece benzemezlik değerine göre al."
   ]
  },
  {
   "cell_type": "markdown",
   "metadata": {},
   "source": [
    "initial population alırken 5x feasible initial solution'u alıp dbscan ya da kmeans ile diversiy sonuçlar elde edebiliriz."
   ]
  },
  {
   "cell_type": "code",
   "execution_count": 3,
   "metadata": {},
   "outputs": [],
   "source": [
    "def initialize_population(pop_size):\n",
    "    '''\n",
    "    Initializing a population which has feasible and random individuals.\n",
    "    \n",
    "    Args:\n",
    "        ind_size (tuple): size of each individual\n",
    "        pop_size (int) : number of individuals will be created\n",
    "        lower_limit (int) : the lower limit of each value can take\n",
    "        upper_limit (int) : the upper limit of each value can take\n",
    "    Returns:\n",
    "        initial_population (array) : list of individuals formed by random integers\n",
    "    '''\n",
    "\n",
    "    initial_population = Cplex_CalculateFitness.generate_random_array(pop_size)\n",
    "    \n",
    "    # initial_population = np.random.randint(lower_limit, upper_limit, size=(pop_size, ind_size))\n",
    "    \n",
    "    return initial_population"
   ]
  },
  {
   "cell_type": "markdown",
   "metadata": {},
   "source": [
    "### calculate fitness "
   ]
  },
  {
   "cell_type": "code",
   "execution_count": 4,
   "metadata": {},
   "outputs": [],
   "source": [
    "def calculate_fitness(individual):\n",
    "    \n",
    "    def fitness(key):\n",
    "        \n",
    "        try:\n",
    "            fitness_values[key] = Cplex_CalculateFitness.calculate_fitness(individual)\n",
    "        except:\n",
    "            return 999999.9 # if a solution is not feasible then assign its obj func\n",
    "        return fitness_values[key]\n",
    "    \n",
    "    # key = str(list(individual.ravel()))\n",
    "    key = str(individual)\n",
    "    \n",
    "    return fitness_values.get(key, fitness(key))"
   ]
  },
  {
   "cell_type": "markdown",
   "metadata": {},
   "source": [
    "### selection rule"
   ]
  },
  {
   "cell_type": "code",
   "execution_count": 5,
   "metadata": {},
   "outputs": [],
   "source": [
    "def create_mating_pool(population, fitness_func, elitism_ratio, max_parent_allow, pop_size, choice_size=2):\n",
    "\n",
    "    t0 = time.time()\n",
    "    if fitness_func == 'cost':\n",
    "        \n",
    "        # calculating choice probabilities of a population\n",
    "        def calculate_probabilities(population):\n",
    "\n",
    "            fitness_values = [1/calculate_fitness(individual) for individual in population]\n",
    "            total_fitness = sum(fitness_values)\n",
    "            choice_probabilities = [fv/total_fitness for fv in fitness_values]   \n",
    "            \n",
    "            return choice_probabilities\n",
    "        \n",
    "    elif fitness_func == 'distance':\n",
    "        \n",
    "        # calculating choice probabilities of a population based on total distance of an ind to others\n",
    "        def calculate_probabilities(population):\n",
    "\n",
    "            # calculating euclidean distance between two individual\n",
    "            def calculate_distance(x, y):\n",
    "                return np.sqrt(sum((x-y)**2))\n",
    "\n",
    "            # import kmeans\n",
    "            # fitness_values = [sum([kmeans.calculate_distance(ind1, ind2) for ind2 in population]) for ind1 in population]        \n",
    "            fitness_values = [sum([calculate_distance(ind1, ind2) for ind2 in population]) for ind1 in population]\n",
    "\n",
    "            total_fitness = sum(fitness_values)\n",
    "            choice_probabilities = [fv/total_fitness for fv in fitness_values]   \n",
    "\n",
    "            return choice_probabilities\n",
    "    \n",
    "    t1 = time.time() \n",
    "    print('step 1', t1-t0) \n",
    "    \n",
    "    mating_pool = [] \n",
    "    # each individual can be a parent for limited times\n",
    "    times_parent = np.zeros(pop_size)  \n",
    "    \n",
    "    # if elitism raio is greater than 0, add elite solutions to mating pool\n",
    "    if elitism_ratio > 0:\n",
    "        \n",
    "        # determining elite solutions\n",
    "        elite_individual_number = int(elitism_ratio*pop_size)\n",
    "        \n",
    "        costs = [calculate_fitness(individual) for individual in population]\n",
    "\n",
    "        best_individual_indexes = sorted(range(len(costs)), key=lambda i: costs[i])[:elite_individual_number]\n",
    "        \n",
    "        # adding elite solutions to the mating pool\n",
    "        for i in range(0,len(best_individual_indexes),choice_size):\n",
    "            parent_indexes = [best_individual_indexes[i], best_individual_indexes[i+1]]\n",
    "            mating_pool.append(parent_indexes)\n",
    "            times_parent[parent_indexes] += 1\n",
    "\n",
    "    t2 = time.time() \n",
    "    print('step 2', t2-t1) \n",
    "\n",
    "    # in each step 'choice_size' of parents will be chosen for number of steps\n",
    "    while len(mating_pool) < pop_size//choice_size:\n",
    "        \n",
    "        # drawing 'choice_size' random uniform numbers\n",
    "        draws = np.random.uniform(0, 1, choice_size)\n",
    "        \n",
    "        # index array to control parent eligibility in a population\n",
    "        idx_array = np.array(range(pop_size))\n",
    "        \n",
    "        # an individual can be a parent if it didn't chosen as parent 'max_parent_allow*pop_size' times\n",
    "        idx_array = idx_array[times_parent<int(max_parent_allow*pop_size)]\n",
    "        \n",
    "        parent_indexes = []\n",
    "        \n",
    "        # choosing an individual according to the draw probability\n",
    "        for draw in draws:\n",
    "           \n",
    "            accumulated = 0\n",
    "      \n",
    "            for idx, probability in zip(idx_array, calculate_probabilities(population[idx_array])):\n",
    "                \n",
    "                accumulated += probability\n",
    "\n",
    "                if draw <= accumulated:\n",
    "\n",
    "                    parent_indexes.append(idx)\n",
    "                    idx_array = idx_array[idx_array!=parent_indexes]\n",
    "\n",
    "                    break\n",
    "        \n",
    "        # if the mate is not exist in the mating pool add it\n",
    "        if parent_indexes not in mating_pool and parent_indexes[::-1] not in mating_pool:           \n",
    "\n",
    "            mating_pool.append(parent_indexes)\n",
    "            times_parent[parent_indexes] += 1\n",
    "    \n",
    "    t3 = time.time() \n",
    "    print('step 3', t3-t2) \n",
    "    \n",
    "    return np.array([population[mate] for mate in mating_pool])"
   ]
  },
  {
   "cell_type": "markdown",
   "metadata": {},
   "source": [
    "### crossover operator"
   ]
  },
  {
   "cell_type": "code",
   "execution_count": 6,
   "metadata": {},
   "outputs": [],
   "source": [
    "def crossover_operator(parents, crossover_point, crossover_prob, ind_size):\n",
    "    '''\n",
    "    Crossover operator for given parents to create new offsprings. \n",
    "    Args:\n",
    "        parent_1, parent_1: parents for crossover\n",
    "        crossover_point: represents crossover type; 1-point, 2-point etc.\n",
    "        crossover_prob: probability of crossover, default value is 1.0\n",
    "    Returns:\n",
    "        [parent_1, parent_2]: if no crossover happens returns the parents\n",
    "        [offspring_1, offspring_2]: if crossover happens returns offsprings\n",
    "    '''\n",
    "    \n",
    "    # make crossover with probability of crossover_probability else return parents\n",
    "    draw = np.random.uniform(0, 1)\n",
    "    \n",
    "    if draw > crossover_prob:\n",
    "        return parents\n",
    "\n",
    "    parent_1, parent_2 = parents\n",
    "        \n",
    "    # choosing random two points between 1 and size of individual to determine cutpoints\n",
    "    random_points = list(np.random.choice(np.arange(1,ind_size-1), crossover_point, replace=False)) \n",
    "    \n",
    "    # creating start and end points of cuts\n",
    "    cutpoints = sorted(random_points + [0, ind_size])\n",
    "    cut_pieces = {cutpoints[i]:cutpoints[i+1] for i in range(len(cutpoints)-1)}\n",
    "    \n",
    "    # cutting parents from the given cut points\n",
    "    parent_pcs = [(parent_1[start:end], parent_2[start:end]) for start, end in cut_pieces.items()]\n",
    "    \n",
    "    # crossover parents from cutpoints, n-point crossover is used (exchanging pieces from different parents)\n",
    "    mask = 0\n",
    "    \n",
    "    offspring_1 = np.array([], dtype=int)\n",
    "    offspring_2 = np.array([], dtype=int)\n",
    "    \n",
    "    for pcs1, pcs2 in parent_pcs:\n",
    "        \n",
    "        if mask%2 == 0:\n",
    "            # print('1. if: off1,2 pcs1,2', offspring_1.shape, offspring_2.shape, pcs1.shape, pcs2.shape)\n",
    "            offspring_1 = np.append(offspring_1, pcs1)\n",
    "            offspring_2 = np.append(offspring_2, pcs2) \n",
    "        else:\n",
    "            # print('2. if: off1,2 pcs1,2', offspring_1.shape, offspring_2.shape, pcs1.shape, pcs2.shape)\n",
    "            offspring_1 = np.append(offspring_1, pcs2)\n",
    "            offspring_2 = np.append(offspring_2, pcs1)\n",
    "        \n",
    "        mask +=1\n",
    "        \n",
    "    return np.array([offspring_1, offspring_2])"
   ]
  },
  {
   "cell_type": "markdown",
   "metadata": {},
   "source": [
    "### mutation operator"
   ]
  },
  {
   "cell_type": "code",
   "execution_count": 7,
   "metadata": {},
   "outputs": [],
   "source": [
    "def mutation_operator(offsprings, m_probability, m_rate, m_level, ind_size):\n",
    "    \n",
    "    mutated_offsprings = []\n",
    "    \n",
    "    # the number of genes will be mutated\n",
    "    mutation_size = int(m_rate*ind_size)\n",
    "    \n",
    "    for offspring in offsprings:\n",
    "        \n",
    "        # mutate individuals with 'mutation_probability'\n",
    "        if np.random.uniform(0, 1) < m_probability:\n",
    "            \n",
    "            # choose some random number to decide which genes will be mutated\n",
    "            mutation_mask = np.random.choice(range(ind_size), size=mutation_size, replace=False)\n",
    "            \n",
    "            # determine whether or not a gene will increase or decrease by 'mutation_level' \n",
    "            mutation_multiplier = m_level*np.random.choice([-1,1], size=mutation_size, replace=True) + 1\n",
    "            \n",
    "            # updating genes using'mutation_mask' by 'mutation_multiplier'\n",
    "            offspring[mutation_mask] = offspring[mutation_mask]*mutation_multiplier\n",
    "            \n",
    "            mutated_offsprings.append(offspring)\n",
    "        \n",
    "        else:\n",
    "            mutated_offsprings.append(offspring)\n",
    "            \n",
    "    return np.array(mutated_offsprings)"
   ]
  },
  {
   "cell_type": "markdown",
   "metadata": {},
   "source": [
    "### printing results"
   ]
  },
  {
   "cell_type": "code",
   "execution_count": 8,
   "metadata": {},
   "outputs": [],
   "source": [
    "def stop_algorithm(iter_count, max_iter):\n",
    "    \n",
    "    print('---------------------------------------------------')\n",
    "    print('Algorithm finished...')\n",
    "    print()\n",
    "    if iter_count == max_iter-1:\n",
    "        print(iter_count, max_iter)\n",
    "        print('Stopping condition: Max iterations reached!')\n",
    "    else:\n",
    "        print('Stopping condition: Convergence!')\n",
    "        \n",
    "    print('---------------------------------------------------')\n",
    "    \n",
    "    global_min_cost = min(solution_costs)\n",
    "    min_index = solution_costs.index(global_min_cost)\n",
    "        \n",
    "    global_best_solution = solution_individuals[min_index]\n",
    "    \n",
    "    # dumping the results to a pickle object\n",
    "    filehandler = open(\"fitness_values.pickle\",\"wb\")\n",
    "    pickle.dump(fitness_values,filehandler)\n",
    "    filehandler.close()\n",
    "\n",
    "    print('Best cost function: ', global_min_cost)\n",
    "    print('--------')\n",
    "    print('Best individual: ')\n",
    "    print(global_best_solution)\n",
    "    print()\n",
    "    \n",
    "    x = range(len(solution_costs))\n",
    "    y = solution_costs\n",
    "\n",
    "    plt.plot(x, y)\n",
    "    plt.ylabel('cost')\n",
    "    plt.xlabel('iteration')\n",
    "    plt.title('Cost Function')"
   ]
  },
  {
   "cell_type": "markdown",
   "metadata": {},
   "source": [
    "### generate population"
   ]
  },
  {
   "cell_type": "code",
   "execution_count": 9,
   "metadata": {},
   "outputs": [],
   "source": [
    "def run(parameters):\n",
    "    \n",
    "    ind_size, pop_size,\\\n",
    "    n_iter, \\\n",
    "    fitness_func,  cros_type, cros_probability, \\\n",
    "    elit_ratio, max_parent_all, \\\n",
    "    mut_prob, mut_rate, mut_level, \\\n",
    "    max_iter, stop_thrs = parameters\n",
    "    \n",
    "    \n",
    "    # initialize generation\n",
    "    \n",
    "    t0 = time.time()\n",
    "    \n",
    "    generation = initialize_population(pop_size) # array\n",
    "    iter_count = 0\n",
    "    \n",
    "    start_time = time.time()\n",
    "    \n",
    "    \n",
    "    while iter_count < max_iter:\n",
    "        \n",
    "        # generating new population with previous population\n",
    "        \n",
    "        prev_generation = generation\n",
    "        \n",
    "        generation_list = []\n",
    "        # creating mating pool\n",
    "        \n",
    "        t2 = time.time()\n",
    "        \n",
    "        mating_pool = create_mating_pool(prev_generation, fitness_func, elit_ratio, max_parent_all, pop_size)\n",
    "        \n",
    "        t3 = time.time()\n",
    "        print('create_mating_pool: ',t3-t2)\n",
    "        \n",
    "        # creating new offsprings by crossover and mutation\n",
    "        for mate in mating_pool: \n",
    "\n",
    "            offsprings = crossover_operator(mate, cros_type, cros_probability, ind_size)\n",
    "            mutated_offsprings = mutation_operator(offsprings, mut_prob, mut_rate, mut_level, ind_size)\n",
    "            [generation_list.append(i) for i in mutated_offsprings]\n",
    "        \n",
    "        generation = np.array(generation_list)\n",
    "        \n",
    "        \n",
    "        # calculating costs of new generation\n",
    "        cost_values = [calculate_fitness(individual) for individual in generation]\n",
    "        \n",
    "        # saving min cost and related individual obtained in this iteration\n",
    "        min_itr_cost = min(cost_values)\n",
    "        min_itr_index = cost_values.index(min_itr_cost)\n",
    "        min_itr_individual = generation[min_itr_index]\n",
    "        \n",
    "        # if the last 5 solutions are the same then stop the algorithm\n",
    "        if len(solution_costs) > stop_thrs and sum([i==min_itr_cost for i in solution_costs[-stop_thrs:]])>stop_thrs-2:\n",
    "    \n",
    "            break\n",
    "            \n",
    "        solution_individuals.append(min_itr_individual)\n",
    "        solution_costs.append(min_itr_cost)\n",
    "        \n",
    "        iter_count +=1\n",
    "        if iter_count % (max_iter//10) == 0:\n",
    "            print('iteration: ',iter_count)\n",
    "            print('min cost found: ', min(solution_costs))\n",
    "    \n",
    "    t5 = time.time()\n",
    "    print('iteration time: ',t5-start_time)\n",
    "    \n",
    "    stop_algorithm(iter_count, max_iter)\n",
    "    \n",
    "    finish_time = time.time()\n",
    "    print('Algorithm runnig time: ', finish_time-start_time)"
   ]
  },
  {
   "cell_type": "markdown",
   "metadata": {},
   "source": [
    "# parameters"
   ]
  },
  {
   "cell_type": "code",
   "execution_count": 10,
   "metadata": {},
   "outputs": [],
   "source": [
    "individual_size = 120"
   ]
  },
  {
   "cell_type": "markdown",
   "metadata": {},
   "source": [
    "### algorithm settings"
   ]
  },
  {
   "cell_type": "code",
   "execution_count": 11,
   "metadata": {},
   "outputs": [],
   "source": [
    "k = 10 # number of clusters in k-means\n",
    "population_size = 30 \n",
    "\n",
    "# crossover parameters\n",
    "crossover_probability = 0.7\n",
    "crossover_type = 1 # integer for n-point crossover\n",
    "fitness_function = 'cost' # fitness function type; cost or distance based ['cost', 'distance']\n",
    "\n",
    "# must be even!\n",
    "elitism_ratio = 0.2  # percentage of best population will carry over to the next generation\n",
    "max_parent_allowance = 3 # population_size//8 # maximum number of times an individual can be a parent during selection process\n",
    "\n",
    "#mutation parameters\n",
    "mutation_probability = 0.05 # probability of mutation\n",
    "mutation_rate = 0.1 # rate of mutation for an individual\n",
    "mutation_level = 0.3 # percentage of increase/decrease for a gene during mutation\n",
    "\n",
    "# algorithm settings\n",
    "max_iter = 100\n",
    "stop_thrs = 10"
   ]
  },
  {
   "cell_type": "markdown",
   "metadata": {},
   "source": [
    "### run with above parameters"
   ]
  },
  {
   "cell_type": "code",
   "execution_count": 12,
   "metadata": {},
   "outputs": [],
   "source": [
    "parameters = [\n",
    "                individual_size, population_size, \\\n",
    "                max_iter, \\\n",
    "                fitness_function,  crossover_type, crossover_probability, \\\n",
    "                elitism_ratio, max_parent_allowance, \\\n",
    "                mutation_probability, mutation_rate, mutation_level, \\\n",
    "                max_iter, stop_thrs\n",
    "             ]"
   ]
  },
  {
   "cell_type": "code",
   "execution_count": null,
   "metadata": {
    "scrolled": false
   },
   "outputs": [
    {
     "name": "stdout",
     "output_type": "stream",
     "text": [
      "step 1 0.0\n",
      "step 2 1.6943817138671875\n"
     ]
    },
    {
     "name": "stderr",
     "output_type": "stream",
     "text": [
      "C:\\Users\\IsmailKaraman\\Anaconda3\\lib\\site-packages\\ipykernel_launcher.py:85: DeprecationWarning: elementwise != comparison failed; this will raise an error in the future.\n"
     ]
    },
    {
     "name": "stdout",
     "output_type": "stream",
     "text": [
      "step 2 39.54124879837036\n",
      "create_mating_pool:  41.23663115501404\n",
      "step 1 0.0\n",
      "step 2 1.663374423980713\n",
      "step 2 39.10980820655823\n",
      "create_mating_pool:  40.77418279647827\n",
      "step 1 0.0\n",
      "step 2 1.6543724536895752\n",
      "step 2 42.67524552345276\n",
      "create_mating_pool:  44.329617977142334\n",
      "step 1 0.0\n",
      "step 2 1.6933813095092773\n",
      "step 2 43.05615592002869\n",
      "create_mating_pool:  44.750537157058716\n",
      "step 1 0.0\n",
      "step 2 1.6908957958221436\n",
      "step 2 39.82807397842407\n",
      "create_mating_pool:  41.51996970176697\n",
      "step 1 0.0\n",
      "step 2 1.703416109085083\n",
      "step 2 39.691556215286255\n",
      "create_mating_pool:  41.39597249031067\n",
      "step 1 0.0\n",
      "step 2 1.6783778667449951\n",
      "step 2 39.6381733417511\n",
      "create_mating_pool:  41.316551208496094\n",
      "step 1 0.0\n",
      "step 2 1.674377202987671\n",
      "step 2 39.72565197944641\n",
      "create_mating_pool:  41.40102958679199\n",
      "step 1 0.0\n",
      "step 2 1.676377534866333\n",
      "step 2 39.93070912361145\n",
      "create_mating_pool:  41.60708665847778\n",
      "step 1 0.0\n",
      "step 2 1.6774013042449951\n",
      "step 2 39.799805641174316\n",
      "create_mating_pool:  41.47720694541931\n",
      "iteration:  10\n",
      "min cost found:  19.186001188416437\n",
      "step 1 0.0\n",
      "step 2 1.6734051704406738\n",
      "step 2 41.26275014877319\n",
      "create_mating_pool:  42.9371554851532\n",
      "step 1 0.0\n",
      "step 2 1.677377462387085\n",
      "step 2 39.72426223754883\n",
      "create_mating_pool:  41.40264010429382\n",
      "step 1 0.0\n",
      "step 2 1.6753780841827393\n",
      "step 2 39.70738768577576\n",
      "create_mating_pool:  41.382765769958496\n",
      "step 1 0.0\n",
      "step 2 1.6773779392242432\n",
      "step 2 43.01823163032532\n",
      "create_mating_pool:  44.69560956954956\n",
      "step 1 0.0\n",
      "step 2 1.6813786029815674\n",
      "step 2 43.084189653396606\n",
      "create_mating_pool:  44.765568256378174\n",
      "step 1 0.0\n",
      "step 2 1.6733784675598145\n",
      "step 2 43.578107833862305\n",
      "create_mating_pool:  45.25148630142212\n",
      "step 1 0.0\n",
      "step 2 1.6809959411621094\n",
      "step 2 40.102500200271606\n",
      "create_mating_pool:  41.784496545791626\n",
      "step 1 0.0\n",
      "step 2 1.683997392654419\n",
      "step 2 39.71064829826355\n",
      "create_mating_pool:  41.39464569091797\n",
      "step 1 0.0\n",
      "step 2 1.6793859004974365\n",
      "step 2 39.96843957901001\n",
      "create_mating_pool:  41.647825479507446\n",
      "step 1 0.0\n",
      "step 2 1.6743767261505127\n",
      "step 2 42.949376344680786\n",
      "create_mating_pool:  44.62475323677063\n",
      "iteration:  20\n",
      "min cost found:  18.544001176856376\n",
      "step 1 0.0\n",
      "step 2 1.671968698501587\n",
      "step 2 39.642003536224365\n",
      "create_mating_pool:  41.31397223472595\n",
      "step 1 0.0\n",
      "step 2 1.6849699020385742\n",
      "step 2 39.4837601184845\n",
      "create_mating_pool:  41.16873002052307\n",
      "step 1 0.0\n",
      "step 2 1.652371883392334\n",
      "step 2 39.194947957992554\n",
      "create_mating_pool:  40.84731984138489\n",
      "step 1 0.0\n",
      "step 2 1.6593644618988037\n",
      "step 2 39.03895902633667\n",
      "create_mating_pool:  40.698323488235474\n",
      "step 1 0.0\n",
      "step 2 1.6563735008239746\n",
      "step 2 39.326011180877686\n",
      "create_mating_pool:  40.98338341712952\n",
      "step 1 0.0\n",
      "step 2 1.6613740921020508\n",
      "step 2 40.82634782791138\n",
      "create_mating_pool:  42.48872232437134\n",
      "step 1 0.0\n",
      "step 2 1.665374755859375\n",
      "step 2 40.1253445148468\n",
      "create_mating_pool:  41.79171919822693\n",
      "step 1 0.0\n",
      "step 2 1.652372121810913\n"
     ]
    }
   ],
   "source": [
    "run(parameters)"
   ]
  },
  {
   "cell_type": "code",
   "execution_count": null,
   "metadata": {},
   "outputs": [],
   "source": [
    "stop"
   ]
  },
  {
   "cell_type": "markdown",
   "metadata": {},
   "source": [
    "### tuning parameters"
   ]
  },
  {
   "cell_type": "code",
   "execution_count": null,
   "metadata": {},
   "outputs": [],
   "source": [
    "k = [5, 10, 20] \n",
    "population_size = [20,30,50,100]\n",
    "\n",
    "# crossover parameters\n",
    "crossover_probability = [0.5, 0.7, 1.0]\n",
    "crossover_type = [1, 2, 3] \n",
    "fitness_function = ['cost', 'distance']\n",
    "\n",
    "# must be even!\n",
    "elitism_ratio = [0, 0.2, 0.4] \n",
    "max_parent_allowance = [0.125, 0.25, 0.5]\n",
    "\n",
    "#mutation parameters\n",
    "mutation_probability = [0, 0.05, 0.1] # probability of mutation\n",
    "mutation_rate = [0.05, 0.5] # rate of mutation for an individual\n",
    "mutation_level = [0.1, 0.3, 0.5] # percentage of increase/decrease for a gene during mutation\n",
    "\n",
    "# algorithm settings\n",
    "max_iter = [100, 500, 1000] \n",
    "stop_thrs = 10"
   ]
  },
  {
   "cell_type": "code",
   "execution_count": null,
   "metadata": {},
   "outputs": [],
   "source": [
    "solution_costs"
   ]
  },
  {
   "cell_type": "code",
   "execution_count": null,
   "metadata": {},
   "outputs": [],
   "source": []
  }
 ],
 "metadata": {
  "kernelspec": {
   "display_name": "Python 3",
   "language": "python",
   "name": "python3"
  },
  "language_info": {
   "codemirror_mode": {
    "name": "ipython",
    "version": 3
   },
   "file_extension": ".py",
   "mimetype": "text/x-python",
   "name": "python",
   "nbconvert_exporter": "python",
   "pygments_lexer": "ipython3",
   "version": "3.7.0"
  }
 },
 "nbformat": 4,
 "nbformat_minor": 4
}

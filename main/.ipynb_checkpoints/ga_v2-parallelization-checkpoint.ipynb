{
 "cells": [
  {
   "cell_type": "code",
   "execution_count": 6,
   "metadata": {},
   "outputs": [],
   "source": [
    "import math\n",
    "import pickle\n",
    "import time\n",
    "import random\n",
    "import numpy as np\n",
    "\n",
    "import kmeans\n",
    "import Cplex_CalculateFitness\n",
    "\n",
    "import matplotlib.pyplot as plt\n",
    "from matplotlib import figure"
   ]
  },
  {
   "cell_type": "code",
   "execution_count": 7,
   "metadata": {},
   "outputs": [],
   "source": [
    "import concurrent.futures\n",
    "import os\n",
    "from functools import wraps\n",
    "import requests"
   ]
  },
  {
   "cell_type": "code",
   "execution_count": 8,
   "metadata": {},
   "outputs": [],
   "source": [
    "# variables\n",
    "file = open(\"fitness_values.pickle\", \"rb\")\n",
    "fitness_values = pickle.load(file)\n",
    "file.close()\n",
    "\n",
    "solution_individuals = []\n",
    "solution_costs = []"
   ]
  },
  {
   "cell_type": "markdown",
   "metadata": {},
   "source": [
    "# ideas"
   ]
  },
  {
   "cell_type": "markdown",
   "metadata": {},
   "source": [
    "- update mutation probability adaptively"
   ]
  },
  {
   "cell_type": "markdown",
   "metadata": {},
   "source": [
    "# definitions"
   ]
  },
  {
   "cell_type": "markdown",
   "metadata": {},
   "source": [
    "Gene: a city (represented as (x, y) coordinates)       \n",
    "Individual (aka “chromosome”): a single route satisfying the conditions above        \n",
    "Population: a collection of possible routes (i.e., collection of individuals)    \n",
    "Parents: two routes that are combined to create a new route         \n",
    "Mating pool: a collection of parents that are used to create our next population (thus creating the next generation of routes)   \n",
    "Fitness: a function that tells us how good each route is (in our case, how short the distance is)       \n",
    "Mutation: a way to introduce variation in our population by randomly swapping two cities in a route          \n",
    "Elitism: a way to carry the best individuals into the next generation      "
   ]
  },
  {
   "cell_type": "markdown",
   "metadata": {},
   "source": [
    "# decisions in ga"
   ]
  },
  {
   "cell_type": "markdown",
   "metadata": {},
   "source": [
    "+ Chromosome representation or coding of an individual solution   \n",
    "+ Fitness function   \n",
    "- Population size, generation of initial population  \n",
    "+ Parent selection for reproduction  \n",
    "+ Crossover operator, crossover rate/probability (pc)  \n",
    "+ Mutation operator, mutation probability (pm),  \n",
    "+ Forming the population for next generation  \n",
    "+ Stopping (convergence) condition  "
   ]
  },
  {
   "cell_type": "markdown",
   "metadata": {},
   "source": [
    "key of a population dictionary: list(ind.ravel())"
   ]
  },
  {
   "cell_type": "markdown",
   "metadata": {},
   "source": [
    "### k-means"
   ]
  },
  {
   "cell_type": "markdown",
   "metadata": {},
   "source": [
    "size=(500, 100)\n",
    "points = np.random.random(size=size)*10\n",
    "clusters, centroids = kmeans.kmeans(points, k)"
   ]
  },
  {
   "cell_type": "markdown",
   "metadata": {},
   "source": [
    "### generate initial population"
   ]
  },
  {
   "cell_type": "markdown",
   "metadata": {},
   "source": [
    "x adet  initial population için 5x random çözüm bul ve bunların fitnesslarını ve birbiriyle olan benzemezliklerini hesapla. bu iki değere göre en iyi x taneyi initial olarak al.\n",
    "sadece benzemezlik değerine göre al."
   ]
  },
  {
   "cell_type": "markdown",
   "metadata": {},
   "source": [
    "initial population alırken 5x feasible initial solution'u alıp dbscan ya da kmeans ile diversiy sonuçlar elde edebiliriz."
   ]
  },
  {
   "cell_type": "code",
   "execution_count": 4,
   "metadata": {},
   "outputs": [],
   "source": [
    "def initialize_population(pop_size):\n",
    "    '''\n",
    "    Initializing a population which has feasible and random individuals.\n",
    "    \n",
    "    Args:\n",
    "        ind_size (tuple): size of each individual\n",
    "        pop_size (int) : number of individuals will be created\n",
    "        lower_limit (int) : the lower limit of each value can take\n",
    "        upper_limit (int) : the upper limit of each value can take\n",
    "    Returns:\n",
    "        initial_population (array) : list of individuals formed by random integers\n",
    "    '''\n",
    "\n",
    "    initial_population = Cplex_CalculateFitness.generate_random_array(pop_size)\n",
    "    \n",
    "    # initial_population = np.random.randint(lower_limit, upper_limit, size=(pop_size, ind_size))\n",
    "    \n",
    "    return initial_population"
   ]
  },
  {
   "cell_type": "code",
   "execution_count": 43,
   "metadata": {},
   "outputs": [],
   "source": [
    "def fitness(individual):\n",
    "    \n",
    "    key = str(individual)\n",
    "    \n",
    "    def cplex_cost(key, individual):\n",
    "        try:\n",
    "            fitness_values[key] = Cplex_CalculateFitness.calculate_fitness(individual)\n",
    "        except:\n",
    "            return 999999.9 # if a solution is not feasible then assign its obj func\n",
    "        \n",
    "    return fitness_values.get(key, cplex_cost(key, individual))"
   ]
  },
  {
   "cell_type": "code",
   "execution_count": 44,
   "metadata": {},
   "outputs": [],
   "source": [
    "def make_parallel(func):\n",
    "    \"\"\"\n",
    "        Decorator used to decorate any function which needs to be parallized.\n",
    "        After the input of the function should be a list in which each element is a instance of input fot the normal function.\n",
    "        You can also pass in keyword arguements seperatley.\n",
    "        :param func: function\n",
    "            The instance of the function that needs to be parallelized.\n",
    "        :return: function\n",
    "    \"\"\"\n",
    "\n",
    "    @wraps(func)\n",
    "    def wrapper(lst):\n",
    "\n",
    "        # the number of threads that can be max-spawned.\n",
    "        # If the number of threads are too high, then the overhead of creating the threads will be significant.\n",
    "        # Here we are choosing the number of CPUs available in the system and then multiplying it with a constant.\n",
    "        # In my system, i have a total of 8 CPUs so i will be generating a maximum of 16 threads in my system.\n",
    "        number_of_threads_multiple = 2 # You can change this multiple according to you requirement\n",
    "        number_of_workers = int(os.cpu_count() * number_of_threads_multiple)\n",
    "        \n",
    "        print(number_of_workers)\n",
    "        \n",
    "        if len(lst) < number_of_workers:\n",
    "            # If the length of the list is low, we would only require those many number of threads.\n",
    "            # Here we are avoiding creating unnecessary threads\n",
    "            number_of_workers = len(lst)\n",
    "            print(number_of_workers)\n",
    "\n",
    "        if number_of_workers:\n",
    "            if number_of_workers == 1:\n",
    "                # If the length of the list that needs to be parallelized is 1, there is no point in\n",
    "                # parallelizing the function.\n",
    "                # So we run it serially.\n",
    "                result = [func(lst[0])]\n",
    "            else:\n",
    "                # Core Code, where we are creating max number of threads and running the decorated function in parallel.\n",
    "                result = []\n",
    "                with concurrent.futures.ThreadPoolExecutor(max_workers=number_of_workers) as executer:\n",
    "                    bag = {executer.submit(func, i): i for i in lst}\n",
    "                    for future in concurrent.futures.as_completed(bag):\n",
    "                        result.append(future.result())\n",
    "        else:\n",
    "            result = []\n",
    "        return result\n",
    "    return wrapper"
   ]
  },
  {
   "cell_type": "code",
   "execution_count": 45,
   "metadata": {},
   "outputs": [],
   "source": [
    "def calculate_fitness(population):\n",
    "  \n",
    "    res = make_parallel(fitness)(population)\n",
    "    \n",
    "    return res"
   ]
  },
  {
   "cell_type": "code",
   "execution_count": 46,
   "metadata": {},
   "outputs": [
    {
     "name": "stdout",
     "output_type": "stream",
     "text": [
      "6.0723676681518555\n"
     ]
    }
   ],
   "source": [
    "pop = np.random.randint(0,100, size=(100,120))\n",
    "start = time.time()\n",
    "k1 = [fitness(i) for i in pop]\n",
    "end =time.time()\n",
    "print(end-start)"
   ]
  },
  {
   "cell_type": "code",
   "execution_count": 47,
   "metadata": {},
   "outputs": [
    {
     "name": "stdout",
     "output_type": "stream",
     "text": [
      "64\n",
      "6.397441387176514\n"
     ]
    }
   ],
   "source": [
    "start = time.time()\n",
    "k2 = calculate_fitness(pop)\n",
    "end =time.time()\n",
    "print(end-start)"
   ]
  },
  {
   "cell_type": "code",
   "execution_count": 48,
   "metadata": {},
   "outputs": [
    {
     "data": {
      "text/plain": [
       "([14.11600029991251,\n",
       "  14.254000336058699,\n",
       "  13.93900031635773,\n",
       "  14.21200031765966,\n",
       "  14.443000327754591],\n",
       " [14.11600029991251,\n",
       "  14.254000336058699,\n",
       "  14.377000372855369,\n",
       "  14.383000332964771,\n",
       "  14.683000376925733])"
      ]
     },
     "execution_count": 48,
     "metadata": {},
     "output_type": "execute_result"
    }
   ],
   "source": [
    "k1[0:5], k2[0:5]"
   ]
  },
  {
   "cell_type": "markdown",
   "metadata": {},
   "source": [
    "### calculate fitness "
   ]
  },
  {
   "cell_type": "code",
   "execution_count": 24,
   "metadata": {},
   "outputs": [],
   "source": []
  },
  {
   "cell_type": "markdown",
   "metadata": {},
   "source": [
    "### selection rule"
   ]
  },
  {
   "cell_type": "code",
   "execution_count": 6,
   "metadata": {},
   "outputs": [],
   "source": [
    "def create_mating_pool(population, fitness_func, elitism_ratio, max_parent_allow, pop_size, choice_size=2):\n",
    "\n",
    "    if fitness_func == 'cost':\n",
    "        \n",
    "        # calculating choice probabilities of a population\n",
    "        def calculate_probabilities(population):\n",
    "            \n",
    "            cost_values = calculate_fitness(list(population))\n",
    "            fitness_values = [1/cost for cost in cost_values]\n",
    "            total_fitness = sum(fitness_values)\n",
    "            choice_probabilities = [fv/total_fitness for fv in fitness_values]   \n",
    "            \n",
    "            return choice_probabilities\n",
    "        \n",
    "    elif fitness_func == 'distance':\n",
    "        \n",
    "        # calculating choice probabilities of a population based on total distance of an ind to others\n",
    "        def calculate_probabilities(population):\n",
    "\n",
    "            # calculating euclidean distance between two individual\n",
    "            def calculate_distance(x, y):\n",
    "                return np.sqrt(sum((x-y)**2))\n",
    "\n",
    "            # import kmeans\n",
    "            # fitness_values = [sum([kmeans.calculate_distance(ind1, ind2) for ind2 in population]) for ind1 in population]        \n",
    "            fitness_values = [sum([calculate_distance(ind1, ind2) for ind2 in population]) for ind1 in population]\n",
    "\n",
    "            total_fitness = sum(fitness_values)\n",
    "            choice_probabilities = [fv/total_fitness for fv in fitness_values]   \n",
    "\n",
    "            return choice_probabilities\n",
    "    \n",
    "        \n",
    "        \n",
    "    mating_pool = [] \n",
    "    # each individual can be a parent for limited times\n",
    "    times_parent = np.zeros(pop_size)  \n",
    "    \n",
    "    # if elitism raio is greater than 0, add elite solutions to mating pool\n",
    "    if elitism_ratio > 0:\n",
    "        \n",
    "        # determining elite solutions\n",
    "        elite_individual_number = int(elitism_ratio*pop_size)\n",
    "        \n",
    "        costs = [calculate_fitness(individual) for individual in population]\n",
    "\n",
    "        best_individual_indexes = sorted(range(len(costs)), key=lambda i: costs[i])[:elite_individual_number]\n",
    "        \n",
    "        # adding elite solutions to the mating pool\n",
    "        for i in range(0,len(best_individual_indexes),choice_size):\n",
    "            parent_indexes = [best_individual_indexes[i], best_individual_indexes[i+1]]\n",
    "            mating_pool.append(parent_indexes)\n",
    "            times_parent[parent_indexes] += 1\n",
    "\n",
    "\n",
    "\n",
    "    # in each step 'choice_size' of parents will be chosen for number of steps\n",
    "    while len(mating_pool) < pop_size//choice_size:\n",
    "        \n",
    "        # drawing 'choice_size' random uniform numbers\n",
    "        draws = np.random.uniform(0, 1, choice_size)\n",
    "        \n",
    "        # index array to control parent eligibility in a population\n",
    "        idx_array = np.array(range(pop_size))\n",
    "        \n",
    "        # an individual can be a parent if it didn't chosen as parent 'max_parent_allow*pop_size' times\n",
    "        idx_array = idx_array[times_parent<int(max_parent_allow*pop_size)]\n",
    "        \n",
    "        parent_indexes = []\n",
    "        \n",
    "        # choosing an individual according to the draw probability\n",
    "        for draw in draws:\n",
    "           \n",
    "            accumulated = 0\n",
    "      \n",
    "            for idx, probability in zip(idx_array, calculate_probabilities(population[idx_array])):\n",
    "                \n",
    "                accumulated += probability\n",
    "\n",
    "                if draw <= accumulated:\n",
    "\n",
    "                    parent_indexes.append(idx)\n",
    "                    idx_array = idx_array[idx_array!=parent_indexes]\n",
    "\n",
    "                    break\n",
    "        \n",
    "        # if the mate is not exist in the mating pool add it\n",
    "        if parent_indexes not in mating_pool and parent_indexes[::-1] not in mating_pool:           \n",
    "\n",
    "            mating_pool.append(parent_indexes)\n",
    "            times_parent[parent_indexes] += 1\n",
    "            \n",
    "    return np.array([population[mate] for mate in mating_pool])"
   ]
  },
  {
   "cell_type": "markdown",
   "metadata": {},
   "source": [
    "### crossover operator"
   ]
  },
  {
   "cell_type": "code",
   "execution_count": 7,
   "metadata": {},
   "outputs": [],
   "source": [
    "def crossover_operator(parents, crossover_point, crossover_prob, ind_size):\n",
    "    '''\n",
    "    Crossover operator for given parents to create new offsprings. \n",
    "    Args:\n",
    "        parent_1, parent_1: parents for crossover\n",
    "        crossover_point: represents crossover type; 1-point, 2-point etc.\n",
    "        crossover_prob: probability of crossover, default value is 1.0\n",
    "    Returns:\n",
    "        [parent_1, parent_2]: if no crossover happens returns the parents\n",
    "        [offspring_1, offspring_2]: if crossover happens returns offsprings\n",
    "    '''\n",
    "    \n",
    "    # make crossover with probability of crossover_probability else return parents\n",
    "    draw = np.random.uniform(0, 1)\n",
    "    \n",
    "    if draw > crossover_prob:\n",
    "        return parents\n",
    "\n",
    "    parent_1, parent_2 = parents\n",
    "        \n",
    "    # choosing random two points between 1 and size of individual to determine cutpoints\n",
    "    random_points = list(np.random.choice(np.arange(1,ind_size-1), crossover_point, replace=False)) \n",
    "    \n",
    "    # creating start and end points of cuts\n",
    "    cutpoints = sorted(random_points + [0, ind_size])\n",
    "    cut_pieces = {cutpoints[i]:cutpoints[i+1] for i in range(len(cutpoints)-1)}\n",
    "    \n",
    "    # cutting parents from the given cut points\n",
    "    parent_pcs = [(parent_1[start:end], parent_2[start:end]) for start, end in cut_pieces.items()]\n",
    "    \n",
    "    # crossover parents from cutpoints, n-point crossover is used (exchanging pieces from different parents)\n",
    "    mask = 0\n",
    "    \n",
    "    offspring_1 = np.array([], dtype=int)\n",
    "    offspring_2 = np.array([], dtype=int)\n",
    "    \n",
    "    for pcs1, pcs2 in parent_pcs:\n",
    "        \n",
    "        if mask%2 == 0:\n",
    "            # print('1. if: off1,2 pcs1,2', offspring_1.shape, offspring_2.shape, pcs1.shape, pcs2.shape)\n",
    "            offspring_1 = np.append(offspring_1, pcs1)\n",
    "            offspring_2 = np.append(offspring_2, pcs2) \n",
    "        else:\n",
    "            # print('2. if: off1,2 pcs1,2', offspring_1.shape, offspring_2.shape, pcs1.shape, pcs2.shape)\n",
    "            offspring_1 = np.append(offspring_1, pcs2)\n",
    "            offspring_2 = np.append(offspring_2, pcs1)\n",
    "        \n",
    "        mask +=1\n",
    "        \n",
    "    return np.array([offspring_1, offspring_2])"
   ]
  },
  {
   "cell_type": "markdown",
   "metadata": {},
   "source": [
    "### mutation operator"
   ]
  },
  {
   "cell_type": "code",
   "execution_count": 8,
   "metadata": {},
   "outputs": [],
   "source": [
    "def mutation_operator(offsprings, m_probability, m_rate, m_level, ind_size):\n",
    "    \n",
    "    mutated_offsprings = []\n",
    "    \n",
    "    # the number of genes will be mutated\n",
    "    mutation_size = int(m_rate*ind_size)\n",
    "    \n",
    "    for offspring in offsprings:\n",
    "        \n",
    "        # mutate individuals with 'mutation_probability'\n",
    "        if np.random.uniform(0, 1) < m_probability:\n",
    "            \n",
    "            # choose some random number to decide which genes will be mutated\n",
    "            mutation_mask = np.random.choice(range(ind_size), size=mutation_size, replace=False)\n",
    "            \n",
    "            # determine whether or not a gene will increase or decrease by 'mutation_level' \n",
    "            mutation_multiplier = m_level*np.random.choice([-1,1], size=mutation_size, replace=True) + 1\n",
    "            \n",
    "            # updating genes using'mutation_mask' by 'mutation_multiplier'\n",
    "            offspring[mutation_mask] = offspring[mutation_mask]*mutation_multiplier\n",
    "            \n",
    "            mutated_offsprings.append(offspring)\n",
    "        \n",
    "        else:\n",
    "            mutated_offsprings.append(offspring)\n",
    "            \n",
    "    return np.array(mutated_offsprings)"
   ]
  },
  {
   "cell_type": "markdown",
   "metadata": {},
   "source": [
    "### printing results"
   ]
  },
  {
   "cell_type": "code",
   "execution_count": 9,
   "metadata": {},
   "outputs": [],
   "source": [
    "def stop_algorithm(iter_count, max_iter):\n",
    "    \n",
    "    print('---------------------------------------------------')\n",
    "    print('Algorithm finished...')\n",
    "    print()\n",
    "    if iter_count == max_iter-1:\n",
    "        print(iter_count, max_iter)\n",
    "        print('Stopping condition: Max iterations reached!')\n",
    "    else:\n",
    "        print('Stopping condition: Convergence!')\n",
    "        \n",
    "    print('---------------------------------------------------')\n",
    "    \n",
    "    global_min_cost = min(solution_costs)\n",
    "    min_index = solution_costs.index(global_min_cost)\n",
    "        \n",
    "    global_best_solution = solution_individuals[min_index]\n",
    "    \n",
    "    # dumping the results to a pickle object\n",
    "    filehandler = open(\"fitness_values.pickle\",\"wb\")\n",
    "    pickle.dump(fitness_values,filehandler)\n",
    "    filehandler.close()\n",
    "\n",
    "    print('Best cost function: ', global_min_cost)\n",
    "    print('--------')\n",
    "    print('Best individual: ')\n",
    "    print(global_best_solution)\n",
    "    print()\n",
    "    \n",
    "    x = range(len(solution_costs))\n",
    "    y = solution_costs\n",
    "\n",
    "    plt.plot(x, y)\n",
    "    plt.ylabel('cost')\n",
    "    plt.xlabel('iteration')\n",
    "    plt.title('Cost Function')"
   ]
  },
  {
   "cell_type": "markdown",
   "metadata": {},
   "source": [
    "### generate population"
   ]
  },
  {
   "cell_type": "code",
   "execution_count": 10,
   "metadata": {},
   "outputs": [],
   "source": [
    "def run(parameters):\n",
    "    \n",
    "    ind_size, pop_size,\\\n",
    "    n_iter, \\\n",
    "    fitness_func,  cros_type, cros_probability, \\\n",
    "    elit_ratio, max_parent_all, \\\n",
    "    mut_prob, mut_rate, mut_level, \\\n",
    "    max_iter, stop_thrs = parameters\n",
    "    \n",
    "    \n",
    "    # initialize generation\n",
    "    \n",
    "    t0 = time.time()\n",
    "    \n",
    "    generation = initialize_population(pop_size) # array\n",
    "    iter_count = 0\n",
    "    \n",
    "    start_time = time.time()\n",
    "    \n",
    "    \n",
    "    while iter_count < max_iter:\n",
    "        \n",
    "        # generating new population with previous population\n",
    "        \n",
    "        prev_generation = generation\n",
    "        \n",
    "        generation_list = []\n",
    "        # creating mating pool\n",
    "        \n",
    "        t2 = time.time()\n",
    "        \n",
    "        mating_pool = create_mating_pool(prev_generation, fitness_func, elit_ratio, max_parent_all, pop_size)\n",
    "        \n",
    "        t3 = time.time()\n",
    "        print('create_mating_pool: ',t3-t2)\n",
    "        \n",
    "        # creating new offsprings by crossover and mutation\n",
    "        for mate in mating_pool: \n",
    "\n",
    "            offsprings = crossover_operator(mate, cros_type, cros_probability, ind_size)\n",
    "            mutated_offsprings = mutation_operator(offsprings, mut_prob, mut_rate, mut_level, ind_size)\n",
    "            [generation_list.append(i) for i in mutated_offsprings]\n",
    "        \n",
    "        generation = np.array(generation_list)\n",
    "        \n",
    "        \n",
    "        # calculating costs of new generation\n",
    "        cost_values = [calculate_fitness(individual) for individual in generation]\n",
    "        \n",
    "        # saving min cost and related individual obtained in this iteration\n",
    "        min_itr_cost = min(cost_values)\n",
    "        min_itr_index = cost_values.index(min_itr_cost)\n",
    "        min_itr_individual = generation[min_itr_index]\n",
    "        \n",
    "        # if the last 5 solutions are the same then stop the algorithm\n",
    "        if len(solution_costs) > stop_thrs and sum([i==min_itr_cost for i in solution_costs[-stop_thrs:]])>stop_thrs-2:\n",
    "    \n",
    "            break\n",
    "            \n",
    "        solution_individuals.append(min_itr_individual)\n",
    "        solution_costs.append(min_itr_cost)\n",
    "        \n",
    "        iter_count +=1\n",
    "        if iter_count % (max_iter//10) == 0:\n",
    "            print('iteration: ',iter_count)\n",
    "            print('min cost found: ', min(solution_costs))\n",
    "    \n",
    "    t5 = time.time()\n",
    "    print('iteration time: ',t5-start_time)\n",
    "    \n",
    "    stop_algorithm(iter_count, max_iter)\n",
    "    \n",
    "    finish_time = time.time()\n",
    "    print('Algorithm runnig time: ', finish_time-start_time)"
   ]
  },
  {
   "cell_type": "markdown",
   "metadata": {},
   "source": [
    "# parameters"
   ]
  },
  {
   "cell_type": "code",
   "execution_count": 11,
   "metadata": {},
   "outputs": [],
   "source": [
    "individual_size = 120"
   ]
  },
  {
   "cell_type": "markdown",
   "metadata": {},
   "source": [
    "### algorithm settings"
   ]
  },
  {
   "cell_type": "code",
   "execution_count": 12,
   "metadata": {},
   "outputs": [],
   "source": [
    "k = 10 # number of clusters in k-means\n",
    "population_size = 20 \n",
    "\n",
    "# crossover parameters\n",
    "crossover_probability = 1\n",
    "crossover_type = 1 # integer for n-point crossover\n",
    "fitness_function = 'cost' # fitness function type; cost or distance based ['cost', 'distance']\n",
    "\n",
    "# must be even!\n",
    "elitism_ratio = 0  # percentage of best population will carry over to the next generation\n",
    "max_parent_allowance = 0.25 # population_size//8 # maximum number of times an individual can be a parent during selection process\n",
    "\n",
    "#mutation parameters\n",
    "mutation_probability = 0.05 # probability of mutation\n",
    "mutation_rate = 0.1 # rate of mutation for an individual\n",
    "mutation_level = 0.3 # percentage of increase/decrease for a gene during mutation\n",
    "\n",
    "# algorithm settings\n",
    "max_iter = 100\n",
    "stop_thrs = 10"
   ]
  },
  {
   "cell_type": "markdown",
   "metadata": {},
   "source": [
    "### run with above parameters"
   ]
  },
  {
   "cell_type": "code",
   "execution_count": 13,
   "metadata": {},
   "outputs": [],
   "source": [
    "parameters = [\n",
    "                individual_size, population_size, \\\n",
    "                max_iter, \\\n",
    "                fitness_function,  crossover_type, crossover_probability, \\\n",
    "                elitism_ratio, max_parent_allowance, \\\n",
    "                mutation_probability, mutation_rate, mutation_level, \\\n",
    "                max_iter, stop_thrs\n",
    "             ]"
   ]
  },
  {
   "cell_type": "code",
   "execution_count": null,
   "metadata": {},
   "outputs": [
    {
     "name": "stderr",
     "output_type": "stream",
     "text": [
      "C:\\Users\\IsmailKaraman\\Anaconda3\\lib\\site-packages\\ipykernel_launcher.py:82: DeprecationWarning: elementwise != comparison failed; this will raise an error in the future.\n"
     ]
    },
    {
     "name": "stdout",
     "output_type": "stream",
     "text": [
      "create_mating_pool:  21.90393328666687\n",
      "create_mating_pool:  24.014516353607178\n",
      "create_mating_pool:  21.81338143348694\n",
      "create_mating_pool:  21.79789972305298\n",
      "create_mating_pool:  21.7739040851593\n",
      "create_mating_pool:  21.78987145423889\n",
      "create_mating_pool:  21.827916145324707\n",
      "create_mating_pool:  24.3300621509552\n",
      "create_mating_pool:  22.223495721817017\n",
      "create_mating_pool:  24.041908979415894\n",
      "iteration:  10\n",
      "min cost found:  20.711001333000027\n",
      "create_mating_pool:  21.94531774520874\n",
      "create_mating_pool:  21.868925094604492\n",
      "create_mating_pool:  21.86083960533142\n",
      "create_mating_pool:  21.83690881729126\n",
      "create_mating_pool:  21.830958366394043\n",
      "create_mating_pool:  23.991402864456177\n",
      "create_mating_pool:  21.815924406051636\n",
      "create_mating_pool:  23.976136684417725\n",
      "create_mating_pool:  23.964730978012085\n",
      "create_mating_pool:  21.77644371986389\n",
      "iteration:  20\n",
      "min cost found:  20.349001264453367\n",
      "create_mating_pool:  21.8199143409729\n",
      "create_mating_pool:  22.013108730316162\n",
      "create_mating_pool:  21.855912923812866\n",
      "create_mating_pool:  21.955944776535034\n",
      "create_mating_pool:  21.808911561965942\n",
      "create_mating_pool:  21.821914672851562\n",
      "create_mating_pool:  21.859923362731934\n"
     ]
    }
   ],
   "source": [
    "run(parameters)"
   ]
  },
  {
   "cell_type": "code",
   "execution_count": null,
   "metadata": {},
   "outputs": [],
   "source": [
    "stop"
   ]
  },
  {
   "cell_type": "markdown",
   "metadata": {},
   "source": [
    "### tuning parameters"
   ]
  },
  {
   "cell_type": "code",
   "execution_count": null,
   "metadata": {},
   "outputs": [],
   "source": [
    "k = [5, 10, 20] \n",
    "population_size = [20,30,50,100]\n",
    "\n",
    "# crossover parameters\n",
    "crossover_probability = [0.5, 0.7, 1.0]\n",
    "crossover_type = [1, 2, 3] \n",
    "fitness_function = ['cost', 'distance']\n",
    "\n",
    "# must be even!\n",
    "elitism_ratio = [0, 0.2, 0.4] \n",
    "max_parent_allowance = [0.125, 0.25, 0.5]\n",
    "\n",
    "#mutation parameters\n",
    "mutation_probability = [0, 0.05, 0.1] # probability of mutation\n",
    "mutation_rate = [0.05, 0.5] # rate of mutation for an individual\n",
    "mutation_level = [0.1, 0.3, 0.5] # percentage of increase/decrease for a gene during mutation\n",
    "\n",
    "# algorithm settings\n",
    "max_iter = [100, 500, 1000] \n",
    "stop_thrs = 10"
   ]
  },
  {
   "cell_type": "code",
   "execution_count": null,
   "metadata": {},
   "outputs": [],
   "source": [
    "solution_costs"
   ]
  },
  {
   "cell_type": "code",
   "execution_count": null,
   "metadata": {},
   "outputs": [],
   "source": []
  }
 ],
 "metadata": {
  "kernelspec": {
   "display_name": "Python 3",
   "language": "python",
   "name": "python3"
  },
  "language_info": {
   "codemirror_mode": {
    "name": "ipython",
    "version": 3
   },
   "file_extension": ".py",
   "mimetype": "text/x-python",
   "name": "python",
   "nbconvert_exporter": "python",
   "pygments_lexer": "ipython3",
   "version": "3.7.0"
  }
 },
 "nbformat": 4,
 "nbformat_minor": 4
}
